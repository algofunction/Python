{
 "cells": [
  {
   "cell_type": "markdown",
   "metadata": {},
   "source": [
    "# Structures conditionnelles et répétitives"
   ]
  },
  {
   "cell_type": "markdown",
   "metadata": {},
   "source": [
    "Structure conditionnelle if ... elif ... else  \n",
    "Opérateurs ternaire et morse  \n",
    "Structure répétitive while  \n",
    "Structure répétitive for  \n",
    "Instructions break et continue  \n",
    "Fonction enumerate()  \n",
    "Bloc else sur structure répétitive  \n",
    "Liste en intension (comprehension list), dictionnaire en intension (comprehension dict)  "
   ]
  },
  {
   "cell_type": "markdown",
   "metadata": {},
   "source": [
    "## Structure conditionnelle if ... elif ... else "
   ]
  },
  {
   "cell_type": "code",
   "execution_count": 3,
   "metadata": {},
   "outputs": [
    {
     "name": "stdout",
     "output_type": "stream",
     "text": [
      "A bientôt\n"
     ]
    }
   ],
   "source": [
    "note = 7\n",
    "if note >= 10 :  \n",
    "   print(\"Tu as obtenu la moyenne\")  \n",
    "   print(\"Félicitations\")  \n",
    "print(\"A bientôt\") "
   ]
  },
  {
   "cell_type": "markdown",
   "metadata": {},
   "source": [
    "2. Branchement if  (Buzer)\n",
    "Un branchement permet de déclencher l’exécution d’une partie du code lorsque le résultat d’une condition est vrai. La syntaxe est la suivante :\n",
    "if condition :   \n",
    "Dans le langage Python, contrairement à la plupart des langages informatiques, il n’est pas nécessaire d’englober la condition avec une paire de parenthèses.   \n",
    "Pour définir le bloc de code devant être exécuté si la condition est vraie, on indente les lignes correspondantes en les décalant vers la droite. Si la condition est fausse, le fil d’exécution ignore les lignes contenues dans le bloc et passe directement à la première ligne de code dont l’indentation est la même que l’instruction if :"
   ]
  }
 ],
 "metadata": {
  "anaconda-cloud": {},
  "kernelspec": {
   "display_name": "Python 3",
   "language": "python",
   "name": "python3"
  },
  "language_info": {
   "codemirror_mode": {
    "name": "ipython",
    "version": 3
   },
   "file_extension": ".py",
   "mimetype": "text/x-python",
   "name": "python",
   "nbconvert_exporter": "python",
   "pygments_lexer": "ipython3",
   "version": "3.9.12"
  }
 },
 "nbformat": 4,
 "nbformat_minor": 1
}
