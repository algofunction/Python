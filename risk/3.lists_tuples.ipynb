{
 "cells": [
  {
   "cell_type": "markdown",
   "metadata": {},
   "source": [
    "Lists and Tuples\n",
    "===\n",
    "Une liste est une collection d'éléments dans un ordre spécifique. Une liste est entourée de crochets."
   ]
  },
  {
   "cell_type": "markdown",
   "metadata": {},
   "source": [
    "#### 3.1 liste"
   ]
  },
  {
   "cell_type": "code",
   "execution_count": 1,
   "metadata": {},
   "outputs": [
    {
     "data": {
      "text/plain": [
       "'i'"
      ]
     },
     "execution_count": 1,
     "metadata": {},
     "output_type": "execute_result"
    }
   ],
   "source": [
    "# un indice négatif donne accès à la liste à partir du dernier élément.\n",
    "voyelles = ['a','e','i']\n",
    "voyelles[0]\n",
    "voyelles[-1]"
   ]
  },
  {
   "cell_type": "code",
   "execution_count": 2,
   "metadata": {},
   "outputs": [
    {
     "data": {
      "text/plain": [
       "['a', 'e', 'i', 'u']"
      ]
     },
     "execution_count": 2,
     "metadata": {},
     "output_type": "execute_result"
    }
   ],
   "source": [
    "voyelles.append('u')\n",
    "voyelles"
   ]
  },
  {
   "cell_type": "code",
   "execution_count": 3,
   "metadata": {},
   "outputs": [
    {
     "data": {
      "text/plain": [
       "['a', 'e', 'i', 'y', 'u']"
      ]
     },
     "execution_count": 3,
     "metadata": {},
     "output_type": "execute_result"
    }
   ],
   "source": [
    "voyelles.insert(-1,'y')\n",
    "voyelles"
   ]
  },
  {
   "cell_type": "code",
   "execution_count": 4,
   "metadata": {},
   "outputs": [
    {
     "data": {
      "text/plain": [
       "['a', 'e', 'i', 'y', 'O']"
      ]
     },
     "execution_count": 4,
     "metadata": {},
     "output_type": "execute_result"
    }
   ],
   "source": [
    "# modifier un élément à l'aide de son indice\n",
    "voyelles[-1] = 'O'\n",
    "voyelles"
   ]
  },
  {
   "cell_type": "markdown",
   "metadata": {},
   "source": [
    "#### 3.2 Suppression d'éléments de listes"
   ]
  },
  {
   "cell_type": "code",
   "execution_count": 5,
   "metadata": {},
   "outputs": [
    {
     "data": {
      "text/plain": [
       "['e', 'i']"
      ]
     },
     "execution_count": 5,
     "metadata": {},
     "output_type": "execute_result"
    }
   ],
   "source": [
    "# suppression d'un élément spécifique\n",
    "voyelles = ['a','e','i']\n",
    "voyelles.remove('a')\n",
    "voyelles"
   ]
  },
  {
   "cell_type": "code",
   "execution_count": 6,
   "metadata": {},
   "outputs": [
    {
     "data": {
      "text/plain": [
       "['e']"
      ]
     },
     "execution_count": 6,
     "metadata": {},
     "output_type": "execute_result"
    }
   ],
   "source": [
    "# suppression d'un élément par son indice\n",
    "del voyelles[1]\n",
    "voyelles"
   ]
  },
  {
   "cell_type": "code",
   "execution_count": 7,
   "metadata": {},
   "outputs": [
    {
     "data": {
      "text/plain": [
       "'a'"
      ]
     },
     "execution_count": 7,
     "metadata": {},
     "output_type": "execute_result"
    }
   ],
   "source": [
    "# suppression et renvoie le dernier élément dans une liste\n",
    "voyelles = ['a','e','i']\n",
    "voyelles.pop()\n",
    "voyelles\n",
    "# réception d'un indice par lequel elle supprime et renvoie l'élément correspondant à cet indice\n",
    "voyelles = ['a','e','i']\n",
    "voyelles = voyelles.pop(0)\n",
    "voyelles"
   ]
  },
  {
   "cell_type": "markdown",
   "metadata": {},
   "source": [
    "#### 3.3 Découpe d'une liste"
   ]
  },
  {
   "cell_type": "code",
   "execution_count": 8,
   "metadata": {},
   "outputs": [
    {
     "data": {
      "text/plain": [
       "['i', 'a']"
      ]
     },
     "execution_count": 8,
     "metadata": {},
     "output_type": "execute_result"
    }
   ],
   "source": [
    "# commence à l'élément du premier indice et s'arrête à l'élément précédant le second indice\n",
    "voyelles = ['a','e','i','a','e','i']\n",
    "voyelles[2:4]"
   ]
  },
  {
   "cell_type": "code",
   "execution_count": 9,
   "metadata": {},
   "outputs": [
    {
     "data": {
      "text/plain": [
       "['a', 'e']"
      ]
     },
     "execution_count": 9,
     "metadata": {},
     "output_type": "execute_result"
    }
   ],
   "source": [
    "# la découpe commence au premier élément de la liste, si vous ne mentionnez pas le premier élément de la liste (avant les :).\n",
    "# les deux premiers éléments\n",
    "voyelles[:2]"
   ]
  },
  {
   "cell_type": "code",
   "execution_count": 10,
   "metadata": {},
   "outputs": [
    {
     "data": {
      "text/plain": [
       "['e', 'i']"
      ]
     },
     "execution_count": 10,
     "metadata": {},
     "output_type": "execute_result"
    }
   ],
   "source": [
    "# les deux derniers éléments\n",
    "voyelles[-2:]"
   ]
  },
  {
   "cell_type": "code",
   "execution_count": 11,
   "metadata": {},
   "outputs": [
    {
     "data": {
      "text/plain": [
       "['a', 'e', 'i']"
      ]
     },
     "execution_count": 11,
     "metadata": {},
     "output_type": "execute_result"
    }
   ],
   "source": [
    "# la découpe se fait jusqu'au dernier élément de la liste, si vous ne mentionnez pas le second élément de la liste (après les :)\n",
    "voyelles[3:]"
   ]
  },
  {
   "cell_type": "markdown",
   "metadata": {},
   "source": [
    "#### 3.4 Copie d'une liste"
   ]
  },
  {
   "cell_type": "markdown",
   "metadata": {},
   "source": [
    "Popping items from a list\n",
    "---\n",
    "There is a cool concept in programming called \"popping\" items from a collection. Every programming language has some sort of data structure similar to Python's lists. All of these structures can be used as queues, and there are various ways of processing the items in a queue.\n",
    "\n",
    "One simple approach is to start with an empty list, and then add items to that list. When you want to work with the items in the list, you always take the last item from the list, do something with it, and then remove that item. The *pop()* function makes this easy. It removes the last item from the list, and gives it to us so we can work with it. This is easier to show with an example:"
   ]
  },
  {
   "cell_type": "code",
   "execution_count": null,
   "metadata": {
    "collapsed": false
   },
   "outputs": [],
   "source": [
    "dogs = ['border collie', 'australian cattle dog', 'labrador retriever']\n",
    "last_dog = dogs.pop()\n",
    "\n",
    "print(last_dog)\n",
    "print(dogs)"
   ]
  },
  {
   "cell_type": "markdown",
   "metadata": {},
   "source": [
    "This is an example of a first-in, last-out approach. The first item in the list would be the last item processed if you kept using this approach. We will see a full implementation of this approach later on, when we learn about *while* loops.\n",
    "\n",
    "You can actually pop any item you want from a list, by giving the index of the item you want to pop. So we could do a first-in, first-out approach by popping the first iem in the list:"
   ]
  },
  {
   "cell_type": "code",
   "execution_count": null,
   "metadata": {
    "collapsed": false
   },
   "outputs": [],
   "source": [
    "###highlight=[3]\n",
    "dogs = ['border collie', 'australian cattle dog', 'labrador retriever']\n",
    "first_dog = dogs.pop(0)\n",
    "\n",
    "print(first_dog)\n",
    "print(dogs)"
   ]
  },
  {
   "cell_type": "markdown",
   "metadata": {},
   "source": [
    "<a id=\"Exercises-removing\"></a>\n",
    "Exercises\n",
    "---\n",
    "#### Famous People\n",
    "- Make a list that includes the names of four famous people.\n",
    "- Remove each person from the list, one at a time, using each of the four methods we have just seen:\n",
    "    - Pop the last item from the list, and pop any item except the last item.\n",
    "    - Remove one item by its position, and one item by its value.\n",
    "- Print out a message that there are no famous people left in your list, and print your list to prove that it is empty."
   ]
  },
  {
   "cell_type": "markdown",
   "metadata": {},
   "source": [
    "[top](#)"
   ]
  },
  {
   "cell_type": "markdown",
   "metadata": {},
   "source": [
    "Want to see what functions are?\n",
    "===\n",
    "At this point, you might have noticed we have a fair bit of repetetive code in some of our examples. This repetition will disappear once we learn how to use functions. If this repetition is bothering you already, you might want to go look at [Introducing Functions](http://nbviewer.ipython.org/urls/raw.github.com/ehmatthes/intro_programming/master/notebooks/introducing_functions.ipynb) before you do any more exercises in this section. "
   ]
  },
  {
   "cell_type": "markdown",
   "metadata": {},
   "source": [
    "Slicing a List\n",
    "===\n",
    "Since a list is a collection of items, we should be able to get any subset of those items. For example, if we want to get just the first three items from the list, we should be able to do so easily. The same should be true for any three items in the middle of the list, or the last three items, or any x items from anywhere in the list. These subsets of a list are called *slices*.\n",
    "\n",
    "To get a subset of a list, we give the position of the first item we want, and the position of the first item we do *not* want to include in the subset. So the slice *list[0:3]* will return a list containing items 0, 1, and 2, but not item 3. Here is how you get a batch containing the first three items."
   ]
  },
  {
   "cell_type": "code",
   "execution_count": null,
   "metadata": {
    "collapsed": false
   },
   "outputs": [],
   "source": [
    "usernames = ['bernice', 'cody', 'aaron', 'ever', 'dalia']\n",
    "\n",
    "# Grab the first three users in the list.\n",
    "first_batch = usernames[0:3]\n",
    "\n",
    "for user in first_batch:\n",
    "    print(user.title())"
   ]
  },
  {
   "cell_type": "markdown",
   "metadata": {},
   "source": [
    "If you want to grab everything up to a certain position in the list, you can also leave the first index blank:"
   ]
  },
  {
   "cell_type": "code",
   "execution_count": null,
   "metadata": {
    "collapsed": false
   },
   "outputs": [],
   "source": [
    "###highlight=[5]\n",
    "usernames = ['bernice', 'cody', 'aaron', 'ever', 'dalia']\n",
    "\n",
    "# Grab the first three users in the list.\n",
    "first_batch = usernames[:3]\n",
    "\n",
    "for user in first_batch:\n",
    "    print(user.title())"
   ]
  },
  {
   "cell_type": "markdown",
   "metadata": {},
   "source": [
    "When we grab a slice from a list, the original list is not affected:"
   ]
  },
  {
   "cell_type": "code",
   "execution_count": null,
   "metadata": {
    "collapsed": false
   },
   "outputs": [],
   "source": [
    "###highlight=[7,8,9]\n",
    "usernames = ['bernice', 'cody', 'aaron', 'ever', 'dalia']\n",
    "\n",
    "# Grab the first three users in the list.\n",
    "first_batch = usernames[0:3]\n",
    "\n",
    "# The original list is unaffected.\n",
    "for user in usernames:\n",
    "    print(user.title())"
   ]
  },
  {
   "cell_type": "markdown",
   "metadata": {},
   "source": [
    "We can get any segment of a list we want, using the slice method:"
   ]
  },
  {
   "cell_type": "code",
   "execution_count": null,
   "metadata": {
    "collapsed": false
   },
   "outputs": [],
   "source": [
    "usernames = ['bernice', 'cody', 'aaron', 'ever', 'dalia']\n",
    "\n",
    "# Grab a batch from the middle of the list.\n",
    "middle_batch = usernames[1:4]\n",
    "\n",
    "for user in middle_batch:\n",
    "    print(user.title())"
   ]
  },
  {
   "cell_type": "markdown",
   "metadata": {},
   "source": [
    "To get all items from one position in the list to the end of the list, we can leave off the second index:"
   ]
  },
  {
   "cell_type": "code",
   "execution_count": null,
   "metadata": {
    "collapsed": false
   },
   "outputs": [],
   "source": [
    "usernames = ['bernice', 'cody', 'aaron', 'ever', 'dalia']\n",
    "\n",
    "# Grab all users from the third to the end.\n",
    "end_batch = usernames[2:]\n",
    "\n",
    "for user in end_batch:\n",
    "    print(user.title())"
   ]
  },
  {
   "cell_type": "markdown",
   "metadata": {},
   "source": [
    "### Copying a list\n",
    "You can use the slice notation to make a copy of a list, by leaving out both the starting and the ending index. This causes the slice to consist of everything from the first item to the last, which is the entire list."
   ]
  },
  {
   "cell_type": "code",
   "execution_count": null,
   "metadata": {
    "collapsed": false
   },
   "outputs": [],
   "source": [
    "usernames = ['bernice', 'cody', 'aaron', 'ever', 'dalia']\n",
    "\n",
    "# Make a copy of the list.\n",
    "copied_usernames = usernames[:]\n",
    "print(\"The full copied list:\\n\\t\", copied_usernames)\n",
    "\n",
    "# Remove the first two users from the copied list.\n",
    "del copied_usernames[0]\n",
    "del copied_usernames[0]\n",
    "print(\"\\nTwo users removed from copied list:\\n\\t\", copied_usernames)\n",
    "\n",
    "# The original list is unaffected.\n",
    "print(\"\\nThe original list:\\n\\t\", usernames)"
   ]
  },
  {
   "cell_type": "markdown",
   "metadata": {},
   "source": [
    "<a id=\"Exercises-slicing\"></a>\n",
    "Exercises\n",
    "---\n",
    "#### Alphabet Slices\n",
    "- Store the first ten letters of the alphabet in a list.\n",
    "- Use a slice to print out the first three letters of the alphabet.\n",
    "- Use a slice to print out any three letters from the middle of your list.\n",
    "- Use a slice to print out the letters from any point in the middle of your list, to the end.\n",
    "\n",
    "#### Protected List\n",
    "- Your goal in this exercise is to prove that copying a list protects the original list.\n",
    "- Make a list with three people's names in it.\n",
    "- Use a slice to make a copy of the entire list.\n",
    "- Add at least two new names to the new copy of the list.\n",
    "- Make a loop that prints out all of the names in the original list, along with a message that this is the original list.\n",
    "- Make a loop that prints out all of the names in the copied list, along with a message that this is the copied list."
   ]
  },
  {
   "cell_type": "markdown",
   "metadata": {},
   "source": [
    "[top](#)"
   ]
  },
  {
   "cell_type": "markdown",
   "metadata": {},
   "source": [
    "Numerical Lists\n",
    "===\n",
    "There is nothing special about lists of numbers, but there are some functions you can use to make working with numerical lists more efficient. Let's make a list of the first ten numbers, and start working with it to see how we can use numbers in a list."
   ]
  },
  {
   "cell_type": "code",
   "execution_count": null,
   "metadata": {
    "collapsed": false
   },
   "outputs": [],
   "source": [
    "# Print out the first ten numbers.\n",
    "numbers = [1, 2, 3, 4, 5, 6, 7, 8, 9, 10]\n",
    "\n",
    "for number in numbers:\n",
    "    print(number)"
   ]
  },
  {
   "cell_type": "markdown",
   "metadata": {},
   "source": [
    "The *range()* function\n",
    "---\n",
    "This works, but it is not very efficient if we want to work with a large set of numbers. The *range()* function helps us generate long lists of numbers. Here are two ways to do the same thing, using the *range* function."
   ]
  },
  {
   "cell_type": "code",
   "execution_count": null,
   "metadata": {
    "collapsed": false
   },
   "outputs": [],
   "source": [
    "# Print the first ten numbers.\n",
    "for number in range(1,11):\n",
    "    print(number)"
   ]
  },
  {
   "cell_type": "markdown",
   "metadata": {},
   "source": [
    "The range function takes in a starting number, and an end number. You get all integers, up to but not including the end number. You can also add a *step* value, which tells the *range* function how big of a step to take between numbers:"
   ]
  },
  {
   "cell_type": "code",
   "execution_count": null,
   "metadata": {
    "collapsed": false
   },
   "outputs": [],
   "source": [
    "# Print the first ten odd numbers.\n",
    "for number in range(1,21,2):\n",
    "    print(number)"
   ]
  },
  {
   "cell_type": "markdown",
   "metadata": {},
   "source": [
    "If we want to store these numbers in a list, we can use the *list()* function. This function takes in a range, and turns it into a list:"
   ]
  },
  {
   "cell_type": "code",
   "execution_count": null,
   "metadata": {
    "collapsed": false
   },
   "outputs": [],
   "source": [
    "# Create a list of the first ten numbers.\n",
    "numbers = list(range(1,11))\n",
    "print(numbers)"
   ]
  },
  {
   "cell_type": "markdown",
   "metadata": {},
   "source": [
    "This is incredibly powerful; we can now create a list of the first million numbers, just as easily as we made a list of the first ten numbers. It doesn't really make sense to print the million numbers here, but we can show that the list really does have one million items in it, and we can print the last ten items to show that the list is correct."
   ]
  },
  {
   "cell_type": "code",
   "execution_count": null,
   "metadata": {
    "collapsed": false
   },
   "outputs": [],
   "source": [
    "# Store the first million numbers in a list.\n",
    "numbers = list(range(1,1000001))\n",
    "\n",
    "# Show the length of the list:\n",
    "print(\"The list 'numbers' has \" + str(len(numbers)) + \" numbers in it.\")\n",
    "\n",
    "# Show the last ten numbers:\n",
    "print(\"\\nThe last ten numbers in the list are:\")\n",
    "for number in numbers[-10:]:\n",
    "    print(number)"
   ]
  },
  {
   "cell_type": "markdown",
   "metadata": {},
   "source": [
    "There are two things here that might be a little unclear. The expression\n",
    "\n",
    "    str(len(numbers))\n",
    "\n",
    "takes the length of the *numbers* list, and turns it into a string that can be printed.\n",
    "\n",
    "The expression \n",
    "\n",
    "    numbers[-10:]\n",
    "\n",
    "gives us a *slice* of the list. The index `-1` is the last item in the list, and the index `-10` is the item ten places from the end of the list. So the slice `numbers[-10:]` gives us everything from that item to the end of the list."
   ]
  },
  {
   "cell_type": "markdown",
   "metadata": {},
   "source": [
    "The *min()*, *max()*, and *sum()* functions\n",
    "---\n",
    "There are three functions you can easily use with numerical lists. As you might expect, the *min()* function returns the smallest number in the list, the *max()* function returns the largest number in the list, and the *sum()* function returns the total of all numbers in the list."
   ]
  },
  {
   "cell_type": "code",
   "execution_count": null,
   "metadata": {
    "collapsed": false
   },
   "outputs": [],
   "source": [
    "ages = [23, 16, 14, 28, 19, 11, 38]\n",
    "\n",
    "youngest = min(ages)\n",
    "oldest = max(ages)\n",
    "total_years = sum(ages)\n",
    "\n",
    "print(\"Our youngest reader is \" + str(youngest) + \" years old.\")\n",
    "print(\"Our oldest reader is \" + str(oldest) + \" years old.\")\n",
    "print(\"Together, we have \" + str(total_years) + \" years worth of life experience.\")"
   ]
  },
  {
   "cell_type": "markdown",
   "metadata": {},
   "source": [
    "<a id=\"Exercises-numerical\"></a>\n",
    "Exercises\n",
    "---\n",
    "#### First Twenty\n",
    "- Use the *range()* function to store the first twenty numbers (1-20) in a list, and print them out.\n",
    "\n",
    "#### Larger Sets\n",
    "- Take the *first\\_twenty.py* program you just wrote. Change your end number to a much larger number. How long does it take your computer to print out the first million numbers? (Most people will never see a million numbers scroll before their eyes. You can now see this!)\n",
    "\n",
    "#### Five Wallets\n",
    "- Imagine five wallets with different amounts of cash in them. Store these five values in a list, and print out the following sentences:\n",
    "    - \"The fattest wallet has $ *value* in it.\"\n",
    "    - \"The skinniest wallet has $ *value* in it.\"\n",
    "    - \"All together, these wallets have $ *value* in them.\""
   ]
  },
  {
   "cell_type": "markdown",
   "metadata": {},
   "source": [
    "[top](#)"
   ]
  },
  {
   "cell_type": "markdown",
   "metadata": {},
   "source": [
    "List Comprehensions\n",
    "===\n",
    "I thought carefully before including this section. If you are brand new to programming, list comprehensions may look confusing at first. They are a shorthand way of creating and working with lists. It is good to be aware of list comprehensions, because you will see them in other people's code, and they are really useful when you understand how to use them. That said, if they don't make sense to you yet, don't worry about using them right away. When you have worked with enough lists, you will want to use comprehensions. For now, it is good enough to know they exist, and to recognize them when you see them. If you like them, go ahead and start trying to use them now.\n",
    "\n",
    "Numerical Comprehensions\n",
    "---\n",
    "Let's consider how we might make a list of the first ten square numbers. We could do it like this:"
   ]
  },
  {
   "cell_type": "code",
   "execution_count": null,
   "metadata": {
    "collapsed": false
   },
   "outputs": [],
   "source": [
    "# Store the first ten square numbers in a list.\n",
    "# Make an empty list that will hold our square numbers.\n",
    "squares = []\n",
    "\n",
    "# Go through the first ten numbers, square them, and add them to our list.\n",
    "for number in range(1,11):\n",
    "    new_square = number**2\n",
    "    squares.append(new_square)\n",
    "    \n",
    "# Show that our list is correct.\n",
    "for square in squares:\n",
    "    print(square)"
   ]
  },
  {
   "cell_type": "markdown",
   "metadata": {},
   "source": [
    "This should make sense at this point. If it doesn't, go over the code with these thoughts in mind:\n",
    "- We make an empty list called *squares* that will hold the values we are interested in.\n",
    "- Using the *range()* function, we start a loop that will go through the numbers 1-10.\n",
    "- Each time we pass through the loop, we find the square of the current number by raising it to the second power.\n",
    "- We add this new value to our list *squares*.\n",
    "- We go through our newly-defined list and print out each square.\n",
    "\n",
    "Now let's make this code more efficient. We don't really need to store the new square in its own variable *new_square*; we can just add it directly to the list of squares. The line\n",
    "\n",
    "    new_square = number**2\n",
    "\n",
    "is taken out, and the next line takes care of the squaring:"
   ]
  },
  {
   "cell_type": "code",
   "execution_count": null,
   "metadata": {
    "collapsed": false
   },
   "outputs": [],
   "source": [
    "###highlight=[8]\n",
    "# Store the first ten square numbers in a list.\n",
    "# Make an empty list that will hold our square numbers.\n",
    "squares = []\n",
    "\n",
    "# Go through the first ten numbers, square them, and add them to our list.\n",
    "for number in range(1,11):\n",
    "    squares.append(number**2)\n",
    "    \n",
    "# Show that our list is correct.\n",
    "for square in squares:\n",
    "    print(square)"
   ]
  },
  {
   "cell_type": "markdown",
   "metadata": {},
   "source": [
    "List comprehensions allow us to collapse the first three lines of code into one line. Here's what it looks like:"
   ]
  },
  {
   "cell_type": "code",
   "execution_count": null,
   "metadata": {
    "collapsed": false
   },
   "outputs": [],
   "source": [
    "###highlight=[2,3]\n",
    "# Store the first ten square numbers in a list.\n",
    "squares = [number**2 for number in range(1,11)]\n",
    "\n",
    "# Show that our list is correct.\n",
    "for square in squares:\n",
    "    print(square)"
   ]
  },
  {
   "cell_type": "markdown",
   "metadata": {},
   "source": [
    "It should be pretty clear that this code is more efficient than our previous approach, but it may not be clear what is happening. Let's take a look at everything that is happening in that first line:\n",
    "\n",
    "We define a list called *squares*.\n",
    "\n",
    "Look at the second part of what's in square brackets:\n",
    "\n",
    "    for number in range(1,11)\n",
    "\n",
    "This sets up a loop that goes through the numbers 1-10, storing each value in the variable *number*. Now we can see what happens to each *number* in the loop:\n",
    "\n",
    "    number**2\n",
    "\n",
    "Each number is raised to the second power, and this is the value that is stored in the list we defined. We might read this line in the following way:\n",
    "\n",
    "squares = [raise *number* to the second power, for each *number* in the range 1-10]"
   ]
  },
  {
   "cell_type": "markdown",
   "metadata": {},
   "source": [
    "### Another example\n",
    "It is probably helpful to see a few more examples of how comprehensions can be used. Let's try to make the first ten even numbers, the longer way:"
   ]
  },
  {
   "cell_type": "code",
   "execution_count": null,
   "metadata": {
    "collapsed": false
   },
   "outputs": [],
   "source": [
    "# Make an empty list that will hold the even numbers.\n",
    "evens = []\n",
    "\n",
    "# Loop through the numbers 1-10, double each one, and add it to our list.\n",
    "for number in range(1,11):\n",
    "    evens.append(number*2)\n",
    "    \n",
    "# Show that our list is correct:\n",
    "for even in evens:\n",
    "    print(even)"
   ]
  },
  {
   "cell_type": "markdown",
   "metadata": {},
   "source": [
    "Here's how we might think of doing the same thing, using a list comprehension:\n",
    "\n",
    "evens = [multiply each *number* by 2, for each *number* in the range 1-10]\n",
    "\n",
    "Here is the same line in code:"
   ]
  },
  {
   "cell_type": "code",
   "execution_count": null,
   "metadata": {
    "collapsed": false
   },
   "outputs": [],
   "source": [
    "###highlight=[2,3]\n",
    "# Make a list of the first ten even numbers.\n",
    "evens = [number*2 for number in range(1,11)]\n",
    "\n",
    "for even in evens:\n",
    "    print(even)"
   ]
  },
  {
   "cell_type": "markdown",
   "metadata": {},
   "source": [
    "Non-numerical comprehensions\n",
    "---\n",
    "We can use comprehensions with non-numerical lists as well. In this case, we will create an initial list, and then use a comprehension to make a second list from the first one. Here is a simple example, without using comprehensions:"
   ]
  },
  {
   "cell_type": "code",
   "execution_count": null,
   "metadata": {
    "collapsed": false
   },
   "outputs": [],
   "source": [
    "# Consider some students.\n",
    "students = ['bernice', 'aaron', 'cody']\n",
    "\n",
    "# Let's turn them into great students.\n",
    "great_students = []\n",
    "for student in students:\n",
    "    great_students.append(student.title() + \" the great!\")\n",
    "\n",
    "# Let's greet each great student.\n",
    "for great_student in great_students:\n",
    "    print(\"Hello, \" + great_student)"
   ]
  },
  {
   "cell_type": "markdown",
   "metadata": {},
   "source": [
    "To use a comprehension in this code, we want to write something like this:\n",
    "\n",
    "great_students = [add 'the great' to each *student*, for each *student* in the list of *students*]\n",
    "\n",
    "Here's what it looks like:"
   ]
  },
  {
   "cell_type": "code",
   "execution_count": null,
   "metadata": {
    "collapsed": false
   },
   "outputs": [],
   "source": [
    "###highlight=[5,6]\n",
    "# Consider some students.\n",
    "students = ['bernice', 'aaron', 'cody']\n",
    "\n",
    "# Let's turn them into great students.\n",
    "great_students = [student.title() + \" the great!\" for student in students]\n",
    "\n",
    "# Let's greet each great student.\n",
    "for great_student in great_students:\n",
    "    print(\"Hello, \" + great_student)"
   ]
  },
  {
   "cell_type": "markdown",
   "metadata": {},
   "source": [
    "<a id=\"Exercises-comprehensions\"></a>\n",
    "Exercises\n",
    "---\n",
    "If these examples are making sense, go ahead and try to do the following exercises using comprehensions. If not, try the exercises without comprehensions. You may figure out how to use comprehensions after you have solved each exercise the longer way.\n",
    "\n",
    "#### Multiples of Ten\n",
    "- Make a list of the first ten multiples of ten (10, 20, 30... 90, 100). There are a number of ways to do this, but try to do it using a list comprehension. Print out your list.\n",
    "\n",
    "#### Cubes\n",
    "- We saw how to make a list of the first ten squares. Make a list of the first ten cubes (1, 8, 27... 1000) using a list comprehension, and print them out.\n",
    "\n",
    "#### Awesomeness\n",
    "- Store five names in a list. Make a second list that adds the phrase \"is awesome!\" to each name, using a list comprehension. Print out the awesome version of the names.\n",
    "\n",
    "#### Working Backwards\n",
    "- Write out the following code without using a list comprehension:\n",
    "\n",
    "    plus_thirteen = [number + 13 for number in range(1,11)]"
   ]
  },
  {
   "cell_type": "markdown",
   "metadata": {},
   "source": [
    "[top](#)"
   ]
  },
  {
   "cell_type": "markdown",
   "metadata": {},
   "source": [
    "Strings as Lists\n",
    "===\n",
    "Now that you have some familiarity with lists, we can take a second look at strings. A string is really a list of characters, so many of the concepts from working with lists behave the same with strings."
   ]
  },
  {
   "cell_type": "markdown",
   "metadata": {},
   "source": [
    "Strings as a list of characters\n",
    "---\n",
    "We can loop through a string using a *for* loop, just like we loop through a list:"
   ]
  },
  {
   "cell_type": "code",
   "execution_count": null,
   "metadata": {
    "collapsed": false
   },
   "outputs": [],
   "source": [
    "message = \"Hello!\"\n",
    "\n",
    "for letter in message:\n",
    "    print(letter)"
   ]
  },
  {
   "cell_type": "markdown",
   "metadata": {},
   "source": [
    "We can create a list from a string. The list will have one element for each character in the string:"
   ]
  },
  {
   "cell_type": "code",
   "execution_count": null,
   "metadata": {
    "collapsed": false
   },
   "outputs": [],
   "source": [
    "message = \"Hello world!\"\n",
    "\n",
    "message_list = list(message)\n",
    "print(message_list)"
   ]
  },
  {
   "cell_type": "markdown",
   "metadata": {},
   "source": [
    "Slicing strings\n",
    "---\n",
    "We can access any character in a string by its position, just as we access individual items in a list:"
   ]
  },
  {
   "cell_type": "code",
   "execution_count": null,
   "metadata": {
    "collapsed": false
   },
   "outputs": [],
   "source": [
    "message = \"Hello World!\"\n",
    "first_char = message[0]\n",
    "last_char = message[-1]\n",
    "\n",
    "print(first_char, last_char)"
   ]
  },
  {
   "cell_type": "markdown",
   "metadata": {},
   "source": [
    "We can extend this to take slices of a string:"
   ]
  },
  {
   "cell_type": "code",
   "execution_count": null,
   "metadata": {
    "collapsed": false
   },
   "outputs": [],
   "source": [
    "message = \"Hello World!\"\n",
    "first_three = message[:3]\n",
    "last_three = message[-3:]\n",
    "\n",
    "print(first_three, last_three)"
   ]
  },
  {
   "cell_type": "markdown",
   "metadata": {},
   "source": [
    "Finding substrings\n",
    "---\n",
    "Now that you have seen what indexes mean for strings, we can search for *substrings*. A substring is a series of characters that appears in a string.\n",
    "\n",
    "You can use the *in* keyword to find out whether a particular substring appears in a string:"
   ]
  },
  {
   "cell_type": "code",
   "execution_count": null,
   "metadata": {
    "collapsed": false
   },
   "outputs": [],
   "source": [
    "message = \"I like cats and dogs.\"\n",
    "dog_present = 'dog' in message\n",
    "print(dog_present)"
   ]
  },
  {
   "cell_type": "markdown",
   "metadata": {},
   "source": [
    "If you want to know where a substring appears in a string, you can use the *find()* method. The *find()* method tells you the index at which the substring begins."
   ]
  },
  {
   "cell_type": "code",
   "execution_count": null,
   "metadata": {
    "collapsed": false
   },
   "outputs": [],
   "source": [
    "message = \"I like cats and dogs.\"\n",
    "dog_index = message.find('dog')\n",
    "print(dog_index)"
   ]
  },
  {
   "cell_type": "markdown",
   "metadata": {},
   "source": [
    "Note, however, that this function only returns the index of the first appearance of the substring you are looking for. If the substring appears more than once, you will miss the other substrings."
   ]
  },
  {
   "cell_type": "code",
   "execution_count": null,
   "metadata": {
    "collapsed": false
   },
   "outputs": [],
   "source": [
    "###highlight=[2]\n",
    "message = \"I like cats and dogs, but I'd much rather own a dog.\"\n",
    "dog_index = message.find('dog')\n",
    "print(dog_index)"
   ]
  },
  {
   "cell_type": "markdown",
   "metadata": {},
   "source": [
    "If you want to find the last appearance of a substring, you can use the *rfind()* function:"
   ]
  },
  {
   "cell_type": "code",
   "execution_count": null,
   "metadata": {
    "collapsed": false
   },
   "outputs": [],
   "source": [
    "###highlight=[3,4]\n",
    "message = \"I like cats and dogs, but I'd much rather own a dog.\"\n",
    "last_dog_index = message.rfind('dog')\n",
    "print(last_dog_index)"
   ]
  },
  {
   "cell_type": "markdown",
   "metadata": {},
   "source": [
    "Replacing substrings\n",
    "---\n",
    "You can use the *replace()* function to replace any substring with another substring. To use the *replace()* function, give the substring you want to replace, and then the substring you want to replace it with. You also need to store the new string, either in the same string variable or in a new variable."
   ]
  },
  {
   "cell_type": "code",
   "execution_count": null,
   "metadata": {
    "collapsed": false
   },
   "outputs": [],
   "source": [
    "message = \"I like cats and dogs, but I'd much rather own a dog.\"\n",
    "message = message.replace('dog', 'snake')\n",
    "print(message)"
   ]
  },
  {
   "cell_type": "markdown",
   "metadata": {},
   "source": [
    "Counting substrings\n",
    "---\n",
    "If you want to know how many times a substring appears within a string, you can use the *count()* method."
   ]
  },
  {
   "cell_type": "code",
   "execution_count": null,
   "metadata": {
    "collapsed": false
   },
   "outputs": [],
   "source": [
    "message = \"I like cats and dogs, but I'd much rather own a dog.\"\n",
    "number_dogs = message.count('dog')\n",
    "print(number_dogs)"
   ]
  },
  {
   "cell_type": "markdown",
   "metadata": {},
   "source": [
    "Splitting strings\n",
    "---\n",
    "Strings can be split into a set of substrings when they are separated by a repeated character. If a string consists of a simple sentence, the string can be split based on spaces. The *split()* function returns a list of substrings. The *split()* function takes one argument, the character that separates the parts of the string."
   ]
  },
  {
   "cell_type": "code",
   "execution_count": null,
   "metadata": {
    "collapsed": false
   },
   "outputs": [],
   "source": [
    "message = \"I like cats and dogs, but I'd much rather own a dog.\"\n",
    "words = message.split(' ')\n",
    "print(words)"
   ]
  },
  {
   "cell_type": "markdown",
   "metadata": {},
   "source": [
    "Notice that the punctuation is left in the substrings.\n",
    "\n",
    "It is more common to split strings that are really lists, separated by something like a comma. The *split()* function gives you an easy way to turn comma-separated strings, which you can't do much with in Python, into lists. Once you have your data in a list, you can work with it in much more powerful ways."
   ]
  },
  {
   "cell_type": "code",
   "execution_count": null,
   "metadata": {
    "collapsed": false
   },
   "outputs": [],
   "source": [
    "animals = \"dog, cat, tiger, mouse, liger, bear\"\n",
    "\n",
    "# Rewrite the string as a list, and store it in the same variable\n",
    "animals = animals.split(',')\n",
    "print(animals)"
   ]
  },
  {
   "cell_type": "markdown",
   "metadata": {},
   "source": [
    "Notice that in this case, the spaces are also ignored. It is a good idea to test the output of the *split()* function and make sure it is doing what you want with the data you are interested in.\n",
    "\n",
    "One use of this is to work with spreadsheet data in your Python programs. Most spreadsheet applications allow you to dump your data into a comma-separated text file. You can read this file into your Python program, or even copy and paste from the text file into your program file, and then turn the data into a list. You can then process your spreadsheet data using a *for* loop."
   ]
  },
  {
   "cell_type": "markdown",
   "metadata": {},
   "source": [
    "Other string methods\n",
    "---\n",
    "There are a number of [other string methods](http://docs.python.org/3.3/library/stdtypes.html#string-methods) that we won't go into right here, but you might want to take a look at them. Most of these methods should make sense to you at this point. You might not have use for any of them right now, but it is good to know what you can do with strings. This way you will have a sense of how to solve certain problems, even if it means referring back to the list of methods to remind yourself how to write the correct syntax when you need it."
   ]
  },
  {
   "cell_type": "markdown",
   "metadata": {},
   "source": [
    "<a id=\"Exercises-strings-as-lists\"></a>\n",
    "Exercises\n",
    "---\n",
    "#### Listing a Sentence\n",
    "- Store a single sentence in a variable. Use a for loop to print each character from your sentence on a separate line.\n",
    "\n",
    "#### Sentence List\n",
    "- Store a single sentence in a variable. Create a list from your sentence. Print your raw list (don't use a loop, just print the list).\n",
    "\n",
    "#### Sentence Slices\n",
    "- Store a sentence in a variable. Using slices, print out the first five characters, any five consecutive characters from the middle of the sentence, and the last five characters of the sentence.\n",
    "\n",
    "#### Finding Python\n",
    "- Store a sentence in a variable, making sure you use the word *Python* at least twice in the sentence.\n",
    "- Use the *in* keyword to prove that the word *Python* is actually in the sentence.\n",
    "- Use the *find()* function to show where the word *Python* first appears in the sentence.\n",
    "- Use the *rfind()* function to show the last place *Python* appears in the sentence.\n",
    "- Use the *count()* function to show how many times the word *Python* appears in your sentence.\n",
    "- Use the *split()* function to break your sentence into a list of words. Print the raw list, and use a loop to print each word on its own line.\n",
    "- Use the *replace()* function to change *Python* to *Ruby* in your sentence."
   ]
  },
  {
   "cell_type": "markdown",
   "metadata": {},
   "source": [
    "<a id=\"Challenges-strings-as-lists\"></a>\n",
    "Challenges\n",
    "---\n",
    "#### Counting DNA Nucleotides\n",
    "- [Project Rosalind](http://rosalind.info/problems/locations/) is a [problem set](http://rosalind.info/problems/list-view/) based on biotechnology concepts. It is meant to show how programming skills can help solve problems in genetics and biology.\n",
    "- If you have understood this section on strings, you have enough information to solve the first problem in Project Rosalind, [Counting DNA Nucleotides](http://rosalind.info/problems/dna/). Give the sample problem a try.\n",
    "- If you get the sample problem correct, log in and try the full version of the problem!\n",
    "\n",
    "#### Transcribing DNA into RNA\n",
    "- You also have enough information to try the second problem, [Transcribing DNA into RNA](http://rosalind.info/problems/rna/). Solve the sample problem.\n",
    "- If you solved the sample problem, log in and try the full version!\n",
    "\n",
    "#### Complementing a Strand of DNA\n",
    "- You guessed it, you can now try the third problem as well: [Complementing a Strand of DNA](http://rosalind.info/problems/revc/). Try the sample problem, and then try the full version if you are successful."
   ]
  },
  {
   "cell_type": "markdown",
   "metadata": {},
   "source": [
    "[top](#)"
   ]
  },
  {
   "cell_type": "markdown",
   "metadata": {},
   "source": [
    "Tuples\n",
    "===\n",
    "Tuples are basically lists that can never be changed. Lists are quite dynamic; they can grow as you append and insert items, and they can shrink as you remove items. You can modify any element you want to in a list. Sometimes we like this behavior, but other times we may want to ensure that no user or no part of a program can change a list. That's what tuples are for.\n",
    "\n",
    "Technically, lists are *mutable* objects and tuples are *immutable* objects. Mutable objects can change (think of *mutations*), and immutable objects can not change.\n",
    "\n",
    "Defining tuples, and accessing elements\n",
    "---\n",
    "\n",
    "You define a tuple just like you define a list, except you use parentheses instead of square brackets. Once you have a tuple, you can access individual elements just like you can with a list, and you can loop through the tuple with a *for* loop:"
   ]
  },
  {
   "cell_type": "code",
   "execution_count": null,
   "metadata": {
    "collapsed": false
   },
   "outputs": [],
   "source": [
    "colors = ('red', 'green', 'blue')\n",
    "print(\"The first color is: \" + colors[0])\n",
    "\n",
    "print(\"\\nThe available colors are:\")\n",
    "for color in colors:\n",
    "    print(\"- \" + color)"
   ]
  },
  {
   "cell_type": "markdown",
   "metadata": {},
   "source": [
    "If you try to add something to a tuple, you will get an error:"
   ]
  },
  {
   "cell_type": "code",
   "execution_count": null,
   "metadata": {
    "collapsed": false
   },
   "outputs": [],
   "source": [
    "colors = ('red', 'green', 'blue')\n",
    "colors.append('purple')"
   ]
  },
  {
   "cell_type": "markdown",
   "metadata": {},
   "source": [
    "The same kind of thing happens when you try to remove something from a tuple, or modify one of its elements. Once you define a tuple, you can be confident that its values will not change."
   ]
  },
  {
   "cell_type": "markdown",
   "metadata": {},
   "source": [
    "Using tuples to make strings\n",
    "---\n",
    "We have seen that it is pretty useful to be able to mix raw English strings with values that are stored in variables, as in the following:"
   ]
  },
  {
   "cell_type": "code",
   "execution_count": null,
   "metadata": {
    "collapsed": false
   },
   "outputs": [],
   "source": [
    "animal = 'dog'\n",
    "print(\"I have a \" + animal + \".\")"
   ]
  },
  {
   "cell_type": "markdown",
   "metadata": {},
   "source": [
    "This was especially useful when we had a series of similar statements to make:"
   ]
  },
  {
   "cell_type": "code",
   "execution_count": null,
   "metadata": {
    "collapsed": false
   },
   "outputs": [],
   "source": [
    "animals = ['dog', 'cat', 'bear']\n",
    "for animal in animals:\n",
    "    print(\"I have a \" + animal + \".\")"
   ]
  },
  {
   "cell_type": "markdown",
   "metadata": {},
   "source": [
    "I like this approach of using the plus sign to build strings because it is fairly intuitive. We can see that we are adding several smaller strings together to make one longer string. This is intuitive, but it is a lot of typing. There is a shorter way to do this, using *placeholders*.\n",
    "\n",
    "Python ignores most of the characters we put inside of strings. There are a few characters that Python pays attention to, as we saw with strings such as \"\\t\" and \"\\n\". Python also pays attention to \"%s\" and \"%d\". These are placeholders. When Python sees the \"%s\" placeholder, it looks ahead and pulls in the first argument after the % sign:"
   ]
  },
  {
   "cell_type": "code",
   "execution_count": null,
   "metadata": {
    "collapsed": false
   },
   "outputs": [],
   "source": [
    "animal = 'dog'\n",
    "print(\"I have a %s.\" % animal)"
   ]
  },
  {
   "cell_type": "markdown",
   "metadata": {},
   "source": [
    "This is a much cleaner way of generating strings that include values. We compose our sentence all in one string, and then tell Python what values to pull into the string, in the appropriate places.\n",
    "\n",
    "This is called *string formatting*, and it looks the same when you use a list:"
   ]
  },
  {
   "cell_type": "code",
   "execution_count": null,
   "metadata": {
    "collapsed": false
   },
   "outputs": [],
   "source": [
    "animals = ['dog', 'cat', 'bear']\n",
    "for animal in animals:\n",
    "    print(\"I have a %s.\" % animal)"
   ]
  },
  {
   "cell_type": "markdown",
   "metadata": {},
   "source": [
    "If you have more than one value to put into the string you are composing, you have to pack the values into a tuple:"
   ]
  },
  {
   "cell_type": "code",
   "execution_count": null,
   "metadata": {
    "collapsed": false
   },
   "outputs": [],
   "source": [
    "animals = ['dog', 'cat', 'bear']\n",
    "print(\"I have a %s, a %s, and a %s.\" % (animals[0], animals[1], animals[2]))"
   ]
  },
  {
   "cell_type": "markdown",
   "metadata": {},
   "source": [
    "### String formatting with numbers\n",
    "\n",
    "If you recall, printing a number with a string can cause an error:"
   ]
  },
  {
   "cell_type": "code",
   "execution_count": null,
   "metadata": {
    "collapsed": false
   },
   "outputs": [],
   "source": [
    "number = 23\n",
    "print(\"My favorite number is \" + number + \".\")"
   ]
  },
  {
   "cell_type": "markdown",
   "metadata": {},
   "source": [
    "Python knows that you could be talking about the value 23, or the characters '23'. So it throws an error, forcing us to clarify that we want Python to treat the number as a string. We do this by *casting* the number into a string using the *str()* function:"
   ]
  },
  {
   "cell_type": "code",
   "execution_count": null,
   "metadata": {
    "collapsed": false
   },
   "outputs": [],
   "source": [
    "###highlight=[3]\n",
    "number = 23\n",
    "print(\"My favorite number is \" + str(number) + \".\")"
   ]
  },
  {
   "cell_type": "markdown",
   "metadata": {},
   "source": [
    "The format string \"%d\" takes care of this for us. Watch how clean this code is:"
   ]
  },
  {
   "cell_type": "code",
   "execution_count": null,
   "metadata": {
    "collapsed": false
   },
   "outputs": [],
   "source": [
    "###highlight=[3]\n",
    "number = 23\n",
    "print(\"My favorite number is %d.\" % number)"
   ]
  },
  {
   "cell_type": "markdown",
   "metadata": {},
   "source": [
    "If you want to use a series of numbers, you pack them into a tuple just like we saw with strings:"
   ]
  },
  {
   "cell_type": "code",
   "execution_count": null,
   "metadata": {
    "collapsed": false
   },
   "outputs": [],
   "source": [
    "numbers = [7, 23, 42]\n",
    "print(\"My favorite numbers are %d, %d, and %d.\" % (numbers[0], numbers[1], numbers[2]))"
   ]
  },
  {
   "cell_type": "markdown",
   "metadata": {},
   "source": [
    "Just for clarification, look at how much longer the code is if you use concatenation instead of string formatting:"
   ]
  },
  {
   "cell_type": "code",
   "execution_count": null,
   "metadata": {
    "collapsed": false
   },
   "outputs": [],
   "source": [
    "###highlight=[3]\n",
    "numbers = [7, 23, 42]\n",
    "print(\"My favorite numbers are \" + str(numbers[0]) + \", \" + str(numbers[1]) + \", and \" + str(numbers[2]) + \".\")"
   ]
  },
  {
   "cell_type": "markdown",
   "metadata": {},
   "source": [
    "You can mix string and numerical placeholders in any order you want."
   ]
  },
  {
   "cell_type": "code",
   "execution_count": null,
   "metadata": {
    "collapsed": false
   },
   "outputs": [],
   "source": [
    "names = ['eric', 'ever']\n",
    "numbers = [23, 2]\n",
    "print(\"%s's favorite number is %d, and %s's favorite number is %d.\" % (names[0].title(), numbers[0], names[1].title(), numbers[1]))"
   ]
  },
  {
   "cell_type": "markdown",
   "metadata": {},
   "source": [
    "There are more sophisticated ways to do string formatting in Python 3, but we will save that for later because it's a bit less intuitive than this approach. For now, you can use whichever approach consistently gets you the output that you want to see."
   ]
  },
  {
   "cell_type": "markdown",
   "metadata": {},
   "source": [
    "<a id=\"Exercises-tuples\"></a>\n",
    "Exercises\n",
    "---\n",
    "\n",
    "#### Gymnast Scores\n",
    "- A gymnast can earn a score between 1 and 10 from each judge; nothing lower, nothing higher. All scores are integer values; there are no decimal scores from a single judge.\n",
    "- Store the possible scores a gymnast can earn from one judge in a tuple.\n",
    "- Print out the sentence, \"The lowest possible score is \\_\\_\\_, and the highest possible score is \\_\\_\\_.\" Use the values from your tuple.\n",
    "- Print out a series of sentences, \"A judge can give a gymnast ___ points.\"\n",
    "    - Don't worry if your first sentence reads \"A judge can give a gymnast 1 points.\"\n",
    "    - However, you get 1000 bonus internet points if you can use a for loop, and have correct grammar. [hint](#hints_gymnast_scores)\n",
    "\n",
    "#### Revision with Tuples\n",
    "- Choose a program you have already written that uses string concatenation.\n",
    "- Save the program with the same filename, but add *\\_tuple.py* to the end. For example, *gymnast\\_scores.py* becomes *gymnast\\_scores_tuple.py*.\n",
    "- Rewrite your string sections using *%s* and *%d* instead of concatenation.\n",
    "- Repeat this with two other programs you have already written."
   ]
  },
  {
   "cell_type": "markdown",
   "metadata": {},
   "source": [
    "[top](#)"
   ]
  },
  {
   "cell_type": "markdown",
   "metadata": {},
   "source": [
    "Coding Style: PEP 8\n",
    "===\n",
    "You are now starting to write Python programs that have a little substance. Your programs are growing a little longer, and there is a little more structure to your programs. This is a really good time to consider your overall style in writing code.\n",
    "\n",
    "Why do we need style conventions?\n",
    "---\n",
    "\n",
    "The people who originally developed Python made some of their decisions based on the realization that code is read much more often than it is written. The original developers paid as much attention to making the language easy to read, as well as easy to write. Python has gained a lot of respect as a programming language because of how readable the code is. You have seen that Python uses indentation to show which lines in a program are grouped together. This makes the structure of your code visible to anyone who reads it. There are, however, some styling decisions we get to make as programmers that can make our programs more readable for ourselves, and for others.\n",
    "\n",
    "There are several audiences to consider when you think about how readable your code is.\n",
    "\n",
    "#### Yourself, 6 months from now\n",
    "- You know what you are thinking when you write code for the first time. But how easily will you recall what you were thinking when you come back to that code tomorrow, next week, or six months from now? We want our code to be as easy to read as possible six months from now, so we can jump back into our projects when we want to.\n",
    "\n",
    "#### Other programmers you might want to collaborate with\n",
    "- Every significant project is the result of collaboration these days. If you stay in programming, you will work with others in jobs and in open source projects. If you write readable code with good commments, people will be happy to work with you in any setting.\n",
    "\n",
    "#### Potential employers\n",
    "- Most people who hire programmers will ask to see some code you have written, and they will probably ask you to write some code during your interview. If you are in the habit of writing code that is easy to read, you will do well in these situations.\n",
    "\n",
    "What is a PEP?\n",
    "---\n",
    "A PEP is a *Python Enhancement Proposal*. When people want to suggest changes to the actual Python language, someone drafts a Python Enhancement Proposal. One of the earliest PEPs was a collection of guidelines for writing code that is easy to read. It was PEP 8, the [Style Guide for Python Code](http://www.python.org/dev/peps/pep-0008/). There is a lot in there that won't make sense to you for some time yet, but there are some suggestions that you should be aware of from the beginning. Starting with good style habits now will help you write clean code from the beginning, which will help you make sense of your code as well.\n",
    "\n",
    "Basic Python style guidelines\n",
    "---\n",
    "#### Indentation\n",
    "- Use 4 spaces for indentation. This is enough space to give your code some visual structure, while leaving room for multiple indentation levels. There are configuration settings in most editors to automatically convert tabs to 4 spaces, and it is a good idea to check this setting. On Geany, this is under Edit>Preferences>Editor>Indentation; set Width to 4, and Type to *Spaces*.\n",
    "\n",
    "#### Line Length\n",
    "- Use up to 79 characters per line of code, and 72 characters for comments. This is a style guideline that some people adhere to and others completely ignore. This used to relate to a limit on the display size of most monitors. Now almost every monitor is capable of showing much more than 80 characters per line. But we often work in terminals, which are not always high-resolution. We also like to have multiple code files open, next to each other. It turns out this is still a useful guideline to follow in most cases. There is a secondary guideline of sticking to 99 characters per line, if you want longer lines.\n",
    "\n",
    "    Many editors have a setting that shows a vertical line that helps you keep your lines to a certain length. In Geany, you can find this setting under Edit>Preferences>Editor>Display. Make sure \"Long Line Marker\" is enabled, and set \"Column\" to 79.\n",
    "\n",
    "#### Blank Lines\n",
    "- Use single blank lines to break up your code into meaningful blocks. You have seen this in many examples so far. You can use two blank lines in longer programs, but don't get excessive with blank lines.\n",
    "\n",
    "#### Comments\n",
    "- Use a single space after the pound sign at the beginning of a line. If you are writing more than one paragraph, use an empty line with a pound sign between paragraphs.\n",
    "\n",
    "#### Naming Variables\n",
    "- Name variables and program files using only lowercase letters, underscores, and numbers. Python won't complain or throw errors if you use capitalization, but you will mislead other programmers if you use capital letters in variables at this point.\n",
    "\n",
    "That's all for now. We will go over more style guidelines as we introduce more complicated programming structures. If you follow these guidelines for now, you will be well on your way to writing readable code that professionals will respect."
   ]
  },
  {
   "cell_type": "markdown",
   "metadata": {},
   "source": [
    "<a id=\"Exercises-pep8\"></a>\n",
    "Exercises\n",
    "---\n",
    "#### Skim PEP 8\n",
    "- If you haven't done so already, skim [PEP 8 - Style Guide for Python Code](http://www.python.org/dev/peps/pep-0008/#block-comments). As you continue to learn Python, go back and look at this every once in a while. I can't stress enough that many good programmers will take you much more seriously from the start if you are following community-wide conventions as you write your code.\n",
    "\n",
    "#### Implement PEP 8\n",
    "- Take three of your longest programs, and add the extension *\\_pep8.py* to the filename of each program. Revise your code so that it meets the styling conventions listed above."
   ]
  },
  {
   "cell_type": "markdown",
   "metadata": {},
   "source": [
    "[top](#)"
   ]
  },
  {
   "cell_type": "markdown",
   "metadata": {},
   "source": [
    "Overall Challenges\n",
    "===\n",
    "#### Programming Words\n",
    "- Make a list of the most important words you have learned in programming so far. You should have terms such as list,\n",
    "- Make a corresponding list of definitions. Fill your list with 'definition'.\n",
    "- Use a for loop to print out each word and its corresponding definition.\n",
    "- Maintain this program until you get to the section on Python's Dictionaries."
   ]
  },
  {
   "cell_type": "markdown",
   "metadata": {},
   "source": [
    "[top](#)"
   ]
  },
  {
   "cell_type": "markdown",
   "metadata": {},
   "source": [
    "- - -\n",
    "[Previous: Variables, Strings, and Numbers](http://nbviewer.ipython.org/urls/raw.github.com/ehmatthes/intro_programming/master/notebooks/var_string_num.ipynb) | \n",
    "[Home](http://nbviewer.ipython.org/urls/raw.github.com/ehmatthes/intro_programming/master/notebooks/index.ipynb) | \n",
    "[Next: Introducing Functions](http://nbviewer.ipython.org/urls/raw.github.com/ehmatthes/intro_programming/master/notebooks/introducing_functions.ipynb)"
   ]
  },
  {
   "cell_type": "markdown",
   "metadata": {},
   "source": [
    "Hints\n",
    "===\n",
    "These are placed at the bottom, so you can have a chance to solve exercises without seeing any hints.\n",
    "\n",
    "\n",
    "\n",
    "#### Gymnast Scores\n",
    "- Hint: Use a slice."
   ]
  },
  {
   "cell_type": "markdown",
   "metadata": {},
   "source": [
    "[top](#)"
   ]
  }
 ],
 "metadata": {
  "kernelspec": {
   "display_name": "Python 3",
   "language": "python",
   "name": "python3"
  },
  "language_info": {
   "codemirror_mode": {
    "name": "ipython",
    "version": 3
   },
   "file_extension": ".py",
   "mimetype": "text/x-python",
   "name": "python",
   "nbconvert_exporter": "python",
   "pygments_lexer": "ipython3",
   "version": "3.9.12"
  }
 },
 "nbformat": 4,
 "nbformat_minor": 0
}
