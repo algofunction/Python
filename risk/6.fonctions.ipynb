{
 "cells": [
  {
   "cell_type": "markdown",
   "metadata": {},
   "source": [
    "6.Fonctions : bloc de code auquel un nom est donné en vue de le réutiliser\n",
    "==="
   ]
  },
  {
   "cell_type": "markdown",
   "metadata": {},
   "source": [
    "#### 6.1 Définition"
   ]
  },
  {
   "cell_type": "code",
   "execution_count": 37,
   "metadata": {},
   "outputs": [
    {
     "name": "stdout",
     "output_type": "stream",
     "text": [
      "salut\n"
     ]
    }
   ],
   "source": [
    "def salut():\n",
    "    \"\"\"docstring : description de la fonction\"\"\"\n",
    "    print('salut')\n",
    "salut()"
   ]
  },
  {
   "cell_type": "markdown",
   "metadata": {},
   "source": [
    "#### 6.2 Passage d'arguments"
   ]
  },
  {
   "cell_type": "code",
   "execution_count": 38,
   "metadata": {},
   "outputs": [
    {
     "name": "stdout",
     "output_type": "stream",
     "text": [
      "Hi,henri\n"
     ]
    }
   ],
   "source": [
    "# la fonction a besoin d'une fonction pour s'executer, c'est le paramètre\n",
    "# la définition suivante crée une fonction salut() qui nécessite une donnée nom\n",
    "def salut(nom):\n",
    "    print(f\"Hi,{nom}\")\n",
    "    nom = \"henri\"\n",
    "salut(nom)\n",
    "# pour passer un argument à une fonction, insérer une valeur entre les parenthèses au  moment de l'appel de la fonction"
   ]
  },
  {
   "cell_type": "markdown",
   "metadata": {},
   "source": [
    "#### 6.3 Arguments positionnés : placés dans l'ordre des valeurs reçues"
   ]
  },
  {
   "cell_type": "code",
   "execution_count": 39,
   "metadata": {},
   "outputs": [
    {
     "name": "stdout",
     "output_type": "stream",
     "text": [
      "Gui : ne mange pas\n",
      "Ma : mange\n"
     ]
    }
   ],
   "source": [
    "# une fonction qui accepte un message et un utilisateur pour afficher un texte\n",
    "# les valeurs ont été interverties\n",
    "def pub_msg(message,utilisateur):\n",
    "    print(f'{utilisateur} : {message}')\n",
    "pub_msg(\"ne mange pas\",\"Gui\")\n",
    "pub_msg(\"mange\",\"Ma\")"
   ]
  },
  {
   "cell_type": "markdown",
   "metadata": {},
   "source": [
    "#### 6.4 Arguments positionnés positionnés en nombre arbitraire"
   ]
  },
  {
   "cell_type": "code",
   "execution_count": 40,
   "metadata": {},
   "outputs": [],
   "source": [
    "# un astérisque (*) devant un nom de paramètre permet à une fonction de recevoir\n",
    "# un nombre arbitraire d'arguments positionnés."
   ]
  },
  {
   "cell_type": "code",
   "execution_count": 41,
   "metadata": {},
   "outputs": [
    {
     "name": "stdout",
     "output_type": "stream",
     "text": [
      "Anne a dit:\n",
      "eats bananas\n",
      "mange\n",
      "Ma\n"
     ]
    }
   ],
   "source": [
    "def pub_msg(utilisateur, *msgs):\n",
    "    print(f'{utilisateur} a dit:')\n",
    "    for msg in msgs:\n",
    "        print(f\"{msg}\")\n",
    "    \n",
    "pub_msg(\"Anne\",\"eats bananas\",\"mange\",\"Ma\")\n",
    "# Le 1er argument fournit une valeur au 1er paramètre.\n",
    "# Le reste est placé dans le tuple msgs\n",
    "# # Un seul paramètre ne peut collecter un nombre arbitraire d'arguments positionnés."
   ]
  },
  {
   "cell_type": "markdown",
   "metadata": {},
   "source": [
    "#### 6.5 Arguments nommés : précisent le paramètre auquel une valeur doit être attribuée."
   ]
  },
  {
   "cell_type": "markdown",
   "metadata": {},
   "source": [
    "Les arguments peuvent être passés dans n'importe quel ordre.  \n",
    "Dans l'appel de fonction, ajouter le nom du paramètre (ex. utilisateur) et la valeur (ex. \"Gui\") à affecter à ce paramètre."
   ]
  },
  {
   "cell_type": "code",
   "execution_count": 42,
   "metadata": {},
   "outputs": [
    {
     "name": "stdout",
     "output_type": "stream",
     "text": [
      "Gui : mange\n"
     ]
    }
   ],
   "source": [
    "def pub_msg(message,utilisateur):\n",
    "    print(f'{utilisateur} : {message}')\n",
    "pub_msg(utilisateur=\"Gui\", message=\"mange\")"
   ]
  },
  {
   "cell_type": "markdown",
   "metadata": {},
   "source": [
    "#### 6.6 Arguments nommés en nombre arbitraire : précisent le paramètre auquel une valeur doit être attribuée."
   ]
  },
  {
   "cell_type": "markdown",
   "metadata": {},
   "source": [
    "Lorsque le genre d'informations que la fonction va recevoir est inconnu,   \n",
    "un double ** devant un paramètre permet à une fonction d'accepter un nombre arbitraire d'arguments nommés."
   ]
  },
  {
   "cell_type": "code",
   "execution_count": 43,
   "metadata": {},
   "outputs": [
    {
     "name": "stdout",
     "output_type": "stream",
     "text": [
      "Description d'Anton :\n",
      "actif : True\n",
      "mail : a@a.fr\n",
      "nbr_publi : 578\n"
     ]
    }
   ],
   "source": [
    "def desc_user(user, **desc):\n",
    "    print(f\"Description d'{user} :\")\n",
    "    for cle, valeur in desc.items():\n",
    "        print(f\"{cle} : {valeur}\")\n",
    "\n",
    "desc_user('Anton', actif=True,\n",
    "          mail='a@a.fr',\n",
    "          nbr_publi=578)"
   ]
  },
  {
   "cell_type": "markdown",
   "metadata": {},
   "source": [
    "1er argument = user, tous les arguments nommés restants sont placés dans le dictionnaire **desc**.  \n",
    "La fonction ne peut avoir qu'un seul paramètre collectant un nombre arbitraire d'arguments nommés."
   ]
  },
  {
   "cell_type": "markdown",
   "metadata": {},
   "source": [
    "#### 6.7 Valeur par défaut (pour utiliser cette valeur à l'appel de la fonction)  "
   ]
  },
  {
   "cell_type": "code",
   "execution_count": 44,
   "metadata": {},
   "outputs": [
    {
     "name": "stdout",
     "output_type": "stream",
     "text": [
      "voici le volume de 20 cl\n",
      "voici le volume de 16 cl\n"
     ]
    }
   ],
   "source": [
    "def cofee(volume=20):\n",
    "    print(f\"voici le volume de {volume} cl\")\n",
    "cofee()\n",
    "cofee(16)"
   ]
  },
  {
   "cell_type": "markdown",
   "metadata": {},
   "source": [
    "Les valeurs par défaut rendent certains arguments facultatifs, en cela elles sont utiles. "
   ]
  },
  {
   "cell_type": "markdown",
   "metadata": {},
   "source": [
    "#### 6.8 Valeurs de retour  "
   ]
  },
  {
   "cell_type": "markdown",
   "metadata": {},
   "source": [
    "Une fonction renvoie une valeur de retour à la ligne ayant appelé cette fonction, afin de pouvoir l'utiliser ultérieurement dans le code.   \n",
    "La ligne appelante peut mémoriser cette valeur de retour dans une variable."
   ]
  },
  {
   "cell_type": "code",
   "execution_count": 45,
   "metadata": {},
   "outputs": [
    {
     "name": "stdout",
     "output_type": "stream",
     "text": [
      "20\n"
     ]
    }
   ],
   "source": [
    "def aire_rect(l,h):\n",
    "    aire=l*h\n",
    "    return aire\n",
    "\n",
    "mon_aire = aire_rect(5,4)\n",
    "print(mon_aire)"
   ]
  },
  {
   "cell_type": "markdown",
   "metadata": {},
   "source": [
    "#### 6.9 Modules  "
   ]
  }
 ],
 "metadata": {
  "kernelspec": {
   "display_name": "Python 3",
   "language": "python",
   "name": "python3"
  },
  "language_info": {
   "codemirror_mode": {
    "name": "ipython",
    "version": 3
   },
   "file_extension": ".py",
   "mimetype": "text/x-python",
   "name": "python",
   "nbconvert_exporter": "python",
   "pygments_lexer": "ipython3",
   "version": "3.9.12"
  }
 },
 "nbformat": 4,
 "nbformat_minor": 0
}
