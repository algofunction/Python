{
 "cells": [
  {
   "cell_type": "markdown",
   "metadata": {},
   "source": [
    "4.Dictionaries\n",
    "===\n",
    "Les dictionnaires établissent des liens entre des informations individuelles."
   ]
  },
  {
   "cell_type": "markdown",
   "metadata": {},
   "source": [
    "#### A propos des dictionnaires"
   ]
  },
  {
   "cell_type": "code",
   "execution_count": 15,
   "metadata": {},
   "outputs": [
    {
     "data": {
      "text/plain": [
       "{'CH': 'Berne', 'GB': 'Berne'}"
      ]
     },
     "execution_count": 15,
     "metadata": {},
     "output_type": "execute_result"
    }
   ],
   "source": [
    "capitales = {\n",
    "    'CH':'Berne',\n",
    "    'GB':'Berne'\n",
    "}\n",
    "capitales"
   ]
  },
  {
   "cell_type": "code",
   "execution_count": 16,
   "metadata": {},
   "outputs": [
    {
     "data": {
      "text/plain": [
       "'Berne'"
      ]
     },
     "execution_count": 16,
     "metadata": {},
     "output_type": "execute_result"
    }
   ],
   "source": [
    "capitales.get('CH')"
   ]
  },
  {
   "cell_type": "code",
   "execution_count": 17,
   "metadata": {},
   "outputs": [
    {
     "data": {
      "text/plain": [
       "{'CH': 'Berne', 'GB': 'Berne', 'RO': 'Buca'}"
      ]
     },
     "execution_count": 17,
     "metadata": {},
     "output_type": "execute_result"
    }
   ],
   "source": [
    "capitales['RO'] = 'Buca'\n",
    "capitales"
   ]
  },
  {
   "cell_type": "code",
   "execution_count": 18,
   "metadata": {},
   "outputs": [],
   "source": [
    "del capitales['RO']"
   ]
  },
  {
   "cell_type": "code",
   "execution_count": 19,
   "metadata": {},
   "outputs": [
    {
     "data": {
      "text/plain": [
       "dict_items([('CH', 'Berne'), ('GB', 'Berne')])"
      ]
     },
     "execution_count": 19,
     "metadata": {},
     "output_type": "execute_result"
    }
   ],
   "source": [
    "capitales.items()"
   ]
  },
  {
   "cell_type": "markdown",
   "metadata": {},
   "source": [
    "#### Parcours d'un dictionnaire"
   ]
  },
  {
   "cell_type": "code",
   "execution_count": 20,
   "metadata": {},
   "outputs": [
    {
     "name": "stdout",
     "output_type": "stream",
     "text": [
      "Etat:CH\n",
      "Etat:GB\n"
     ]
    }
   ],
   "source": [
    "for etat in capitales:\n",
    "    print(f\"Etat:{etat}\")"
   ]
  },
  {
   "cell_type": "code",
   "execution_count": 21,
   "metadata": {},
   "outputs": [
    {
     "name": "stdout",
     "output_type": "stream",
     "text": [
      "Capitale:Berne\n",
      "Capitale:Berne\n"
     ]
    }
   ],
   "source": [
    "for capitale in capitales.values():\n",
    "    print(f\"Capitale:{capitale}\")"
   ]
  },
  {
   "cell_type": "code",
   "execution_count": 22,
   "metadata": {},
   "outputs": [
    {
     "name": "stdout",
     "output_type": "stream",
     "text": [
      "Berne,CH\n",
      "Berne,GB\n"
     ]
    }
   ],
   "source": [
    "for etat, capitale in capitales.items():\n",
    "    print(f\"{capitale},{etat}\")"
   ]
  },
  {
   "cell_type": "markdown",
   "metadata": {},
   "source": [
    "#### Exemples de dictionnaires"
   ]
  },
  {
   "cell_type": "code",
   "execution_count": 23,
   "metadata": {},
   "outputs": [],
   "source": [
    "# glossaire\n",
    "termes_pyth = {\n",
    "    'boucle':'action repetee',\n",
    "    'liste':'action repetee',\n",
    "}"
   ]
  },
  {
   "cell_type": "code",
   "execution_count": 24,
   "metadata": {},
   "outputs": [],
   "source": [
    "# un seul type de de sujet\n",
    "c_berry = {\n",
    "    'prenom':'Chuck',\n",
    "    'nom':'Norris',\n",
    "}"
   ]
  },
  {
   "cell_type": "markdown",
   "metadata": {},
   "source": [
    "#### Des dictionnaires dans une liste"
   ]
  },
  {
   "cell_type": "code",
   "execution_count": 25,
   "metadata": {},
   "outputs": [
    {
     "data": {
      "text/plain": [
       "[{'prenom': 'Janis', 'nom': 'Joplin'}, {'prenom': 'Chuck', 'nom': 'Norris'}]"
      ]
     },
     "execution_count": 25,
     "metadata": {},
     "output_type": "execute_result"
    }
   ],
   "source": [
    "musiciens = []\n",
    "\n",
    "e_fitz = {\n",
    "    'prenom':'Chuck',\n",
    "    'nom':'Norris',\n",
    "}\n",
    "musiciens.insert(0, e_fitz)\n",
    "\n",
    "\n",
    "j_joplin = {\n",
    "    'prenom':'Janis',\n",
    "    'nom':'Joplin',\n",
    "}\n",
    "musiciens.insert(0,j_joplin)\n",
    "\n",
    "musiciens"
   ]
  },
  {
   "cell_type": "code",
   "execution_count": 26,
   "metadata": {},
   "outputs": [
    {
     "name": "stdout",
     "output_type": "stream",
     "text": [
      "JanisJoplin\n",
      "ChuckNorris\n"
     ]
    }
   ],
   "source": [
    "for musicien in musiciens:\n",
    "    nom_complet = f\"{musicien['prenom']}\"\n",
    "    nom_complet += f\"{musicien['nom']}\"\n",
    "    print(nom_complet)"
   ]
  },
  {
   "cell_type": "markdown",
   "metadata": {},
   "source": [
    "#### Une liste dans un dictionnaire  "
   ]
  },
  {
   "cell_type": "code",
   "execution_count": 27,
   "metadata": {},
   "outputs": [
    {
     "data": {
      "text/plain": [
       "{'Eric': ['GB', 'IT'], 'Omer': ['GB', 'IT']}"
      ]
     },
     "execution_count": 27,
     "metadata": {},
     "output_type": "execute_result"
    }
   ],
   "source": [
    "etats_visites = {\n",
    "    'Eric':['GB','IT'],\n",
    "    'Omer':['GB','IT'],\n",
    "}\n",
    "etats_visites"
   ]
  },
  {
   "cell_type": "code",
   "execution_count": 28,
   "metadata": {},
   "outputs": [
    {
     "name": "stdout",
     "output_type": "stream",
     "text": [
      "Eric a visite:\n",
      "GB\n",
      "IT\n",
      "Omer a visite:\n",
      "GB\n",
      "IT\n"
     ]
    }
   ],
   "source": [
    "for nom, etats in etats_visites.items():\n",
    "    print(f\"{nom} a visite:\")\n",
    "    for etat in etats:\n",
    "        print(f\"{etat}\")"
   ]
  }
 ],
 "metadata": {
  "kernelspec": {
   "display_name": "Python 3",
   "language": "python",
   "name": "python3"
  },
  "language_info": {
   "codemirror_mode": {
    "name": "ipython",
    "version": 3
   },
   "file_extension": ".py",
   "mimetype": "text/x-python",
   "name": "python",
   "nbconvert_exporter": "python",
   "pygments_lexer": "ipython3",
   "version": "3.9.12"
  }
 },
 "nbformat": 4,
 "nbformat_minor": 0
}
