{
 "cells": [
  {
   "cell_type": "markdown",
   "metadata": {},
   "source": [
    "4.Dictionaries\n",
    "===\n",
    "Les dictionnaires établissent des liens entre des informations individuelles."
   ]
  },
  {
   "cell_type": "markdown",
   "metadata": {},
   "source": [
    "#### 4.1 A propos des dictionnaires"
   ]
  },
  {
   "cell_type": "code",
   "execution_count": 13,
   "metadata": {},
   "outputs": [
    {
     "data": {
      "text/plain": [
       "{'CH': 'Berne', 'GB': 'Berne'}"
      ]
     },
     "execution_count": 13,
     "metadata": {},
     "output_type": "execute_result"
    }
   ],
   "source": [
    "capitales = {\n",
    "    'CH':'Berne',\n",
    "    'GB':'Berne'\n",
    "}\n",
    "capitales"
   ]
  },
  {
   "cell_type": "code",
   "execution_count": 16,
   "metadata": {},
   "outputs": [
    {
     "data": {
      "text/plain": [
       "'Berne'"
      ]
     },
     "execution_count": 16,
     "metadata": {},
     "output_type": "execute_result"
    }
   ],
   "source": [
    "# valeur associée à une clé\n",
    "capitales.get('CH')\n",
    "# ou capitales['CH']"
   ]
  },
  {
   "cell_type": "code",
   "execution_count": 21,
   "metadata": {},
   "outputs": [
    {
     "data": {
      "text/plain": [
       "{'CH': 'Berne', 'GB': 'Berne', 'RO': 'Buca'}"
      ]
     },
     "execution_count": 21,
     "metadata": {},
     "output_type": "execute_result"
    }
   ],
   "source": [
    "# ajout d'éléments à un dictionnaire \n",
    "capitales['RO'] = 'Buca'\n",
    "capitales"
   ]
  },
  {
   "cell_type": "code",
   "execution_count": 22,
   "metadata": {},
   "outputs": [
    {
     "data": {
      "text/plain": [
       "{'CH': 'Berne', 'GB': 'Berne'}"
      ]
     },
     "execution_count": 22,
     "metadata": {},
     "output_type": "execute_result"
    }
   ],
   "source": [
    "# suppression de la clé et de la valeur d'un élément d'un dictionnaire\n",
    "del capitales['RO']\n",
    "capitales"
   ]
  },
  {
   "cell_type": "markdown",
   "metadata": {},
   "source": [
    "#### 4.2 Méthodes des dictionnaires"
   ]
  },
  {
   "cell_type": "code",
   "execution_count": 24,
   "metadata": {},
   "outputs": [
    {
     "data": {
      "text/plain": [
       "'Berne'"
      ]
     },
     "execution_count": 24,
     "metadata": {},
     "output_type": "execute_result"
    }
   ],
   "source": [
    "capitales = {\n",
    "    'CH':'Berne',\n",
    "    'GB':'Berne'\n",
    "}\n",
    "# renvoie la valeur associée à une clé\n",
    "capitales.get('GB')"
   ]
  },
  {
   "cell_type": "code",
   "execution_count": 26,
   "metadata": {},
   "outputs": [
    {
     "data": {
      "text/plain": [
       "dict_keys(['CH', 'GB'])"
      ]
     },
     "execution_count": 26,
     "metadata": {},
     "output_type": "execute_result"
    }
   ],
   "source": [
    "# renvoie l'ensemble des clés\n",
    "capitales.keys()"
   ]
  },
  {
   "cell_type": "code",
   "execution_count": 27,
   "metadata": {},
   "outputs": [
    {
     "data": {
      "text/plain": [
       "dict_values(['Berne', 'Berne'])"
      ]
     },
     "execution_count": 27,
     "metadata": {},
     "output_type": "execute_result"
    }
   ],
   "source": [
    "# renvoie l'ensemble des valeurs\n",
    "capitales.values()"
   ]
  },
  {
   "cell_type": "code",
   "execution_count": 25,
   "metadata": {},
   "outputs": [
    {
     "data": {
      "text/plain": [
       "dict_items([('CH', 'Berne'), ('GB', 'Berne')])"
      ]
     },
     "execution_count": 25,
     "metadata": {},
     "output_type": "execute_result"
    }
   ],
   "source": [
    "# renvoie les éléments d'un dictionnaire\n",
    "capitales.items()"
   ]
  },
  {
   "cell_type": "markdown",
   "metadata": {},
   "source": [
    "#### 4.3 Parcours d'un dictionnaire"
   ]
  },
  {
   "cell_type": "code",
   "execution_count": 20,
   "metadata": {},
   "outputs": [
    {
     "name": "stdout",
     "output_type": "stream",
     "text": [
      "Etat:CH\n",
      "Etat:GB\n"
     ]
    }
   ],
   "source": [
    "for etat in capitales:\n",
    "    print(f\"Etat:{etat}\")"
   ]
  },
  {
   "cell_type": "code",
   "execution_count": 21,
   "metadata": {},
   "outputs": [
    {
     "name": "stdout",
     "output_type": "stream",
     "text": [
      "Capitale:Berne\n",
      "Capitale:Berne\n"
     ]
    }
   ],
   "source": [
    "for capitale in capitales.values():\n",
    "    print(f\"Capitale:{capitale}\")"
   ]
  },
  {
   "cell_type": "code",
   "execution_count": 22,
   "metadata": {},
   "outputs": [
    {
     "name": "stdout",
     "output_type": "stream",
     "text": [
      "Berne,CH\n",
      "Berne,GB\n"
     ]
    }
   ],
   "source": [
    "for etat, capitale in capitales.items():\n",
    "    print(f\"{capitale},{etat}\")"
   ]
  },
  {
   "cell_type": "markdown",
   "metadata": {},
   "source": [
    "#### 4.4 Exemples de dictionnaires"
   ]
  },
  {
   "cell_type": "code",
   "execution_count": 10,
   "metadata": {},
   "outputs": [
    {
     "data": {
      "text/plain": [
       "{'boucle': 'action repetee', 'liste': 'action repetee'}"
      ]
     },
     "execution_count": 10,
     "metadata": {},
     "output_type": "execute_result"
    }
   ],
   "source": [
    "# glossaire\n",
    "termes_pyth = {\n",
    "    'boucle':'action repetee',\n",
    "    'liste':'action repetee',\n",
    "}\n",
    "termes_pyth"
   ]
  },
  {
   "cell_type": "code",
   "execution_count": 11,
   "metadata": {},
   "outputs": [
    {
     "data": {
      "text/plain": [
       "{'prenom': 'Chuck', 'nom': 'Norris'}"
      ]
     },
     "execution_count": 11,
     "metadata": {},
     "output_type": "execute_result"
    }
   ],
   "source": [
    "# un seul type de de sujet\n",
    "c_berry = {\n",
    "    'prenom':'Chuck',\n",
    "    'nom':'Norris',\n",
    "}\n",
    "c_berry"
   ]
  },
  {
   "cell_type": "markdown",
   "metadata": {},
   "source": [
    "#### 4.5 Des dictionnaires dans une liste"
   ]
  },
  {
   "cell_type": "code",
   "execution_count": 4,
   "metadata": {},
   "outputs": [
    {
     "data": {
      "text/plain": [
       "[{'prenom': 'Janis', 'nom': 'Joplin'}, {'prenom': 'Chuck', 'nom': 'Norris'}]"
      ]
     },
     "execution_count": 4,
     "metadata": {},
     "output_type": "execute_result"
    }
   ],
   "source": [
    "musiciens = []\n",
    "\n",
    "e_fitz = {\n",
    "    'prenom':'Chuck',\n",
    "    'nom':'Norris',\n",
    "}\n",
    "musiciens.insert(0, e_fitz)\n",
    "\n",
    "\n",
    "j_joplin = {\n",
    "    'prenom':'Janis',\n",
    "    'nom':'Joplin',\n",
    "}\n",
    "musiciens.insert(0,j_joplin)\n",
    "\n",
    "musiciens"
   ]
  },
  {
   "cell_type": "code",
   "execution_count": 7,
   "metadata": {},
   "outputs": [
    {
     "name": "stdout",
     "output_type": "stream",
     "text": [
      "JanisJoplin\n",
      "ChuckNorris\n"
     ]
    }
   ],
   "source": [
    "for musicien in musiciens:\n",
    "    nom_complet = f\"{musicien['prenom']}\"\n",
    "    nom_complet += f\"{musicien['nom']}\"\n",
    "    print(nom_complet)"
   ]
  },
  {
   "cell_type": "markdown",
   "metadata": {},
   "source": [
    "#### 4.6 Une liste dans un dictionnaire  "
   ]
  },
  {
   "cell_type": "code",
   "execution_count": 1,
   "metadata": {},
   "outputs": [
    {
     "data": {
      "text/plain": [
       "{'Eric': ['GB', 'IT'], 'Omer': ['GB', 'IT']}"
      ]
     },
     "execution_count": 1,
     "metadata": {},
     "output_type": "execute_result"
    }
   ],
   "source": [
    "etats_visites = {\n",
    "    'Eric':['GB','IT'],\n",
    "    'Omer':['GB','IT'],\n",
    "}\n",
    "etats_visites"
   ]
  },
  {
   "cell_type": "code",
   "execution_count": 2,
   "metadata": {},
   "outputs": [
    {
     "name": "stdout",
     "output_type": "stream",
     "text": [
      "Eric a visite:\n",
      "GB\n",
      "IT\n",
      "Omer a visite:\n",
      "GB\n",
      "IT\n"
     ]
    }
   ],
   "source": [
    "for nom, etats in etats_visites.items():\n",
    "    print(f\"{nom} a visite:\")\n",
    "    for etat in etats:\n",
    "        print(f\"{etat}\")"
   ]
  }
 ],
 "metadata": {
  "kernelspec": {
   "display_name": "Python 3",
   "language": "python",
   "name": "python3"
  },
  "language_info": {
   "codemirror_mode": {
    "name": "ipython",
    "version": 3
   },
   "file_extension": ".py",
   "mimetype": "text/x-python",
   "name": "python",
   "nbconvert_exporter": "python",
   "pygments_lexer": "ipython3",
   "version": "3.9.12"
  }
 },
 "nbformat": 4,
 "nbformat_minor": 0
}
