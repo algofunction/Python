{
 "cells": [
  {
   "cell_type": "markdown",
   "metadata": {},
   "source": [
    "8.Tests\n",
    "==="
   ]
  },
  {
   "cell_type": "markdown",
   "metadata": {},
   "source": [
    "#### 8.1 Le module unittest"
   ]
  },
  {
   "cell_type": "markdown",
   "metadata": {},
   "source": [
    "Les méthodes d'assertion de cette classe vérifient que le code génère des résultats corrects.    \n",
    "La méthode setUp() permet d'utiliser les mêmes conditions initiales dans plusieurs tests.  \n",
    "\n",
    "Pour tester une fonction, ou une classe, importez le code de test dans un nouveau fichier et \n",
    "créez un scénario de test héritant de la classe unittest.TestCase   "
   ]
  },
  {
   "cell_type": "code",
   "execution_count": null,
   "metadata": {},
   "outputs": [],
   "source": [
    "Rédigez ensuite des méthodes pour tester le comportement du code.  \n",
    "Utilisez ce module lorsque vous modifiez le code."
   ]
  },
  {
   "cell_type": "markdown",
   "metadata": {},
   "source": [
    "#### 8.2 Fonctions de tests"
   ]
  },
  {
   "cell_type": "code",
   "execution_count": 1,
   "metadata": {},
   "outputs": [
    {
     "ename": "ModuleNotFoundError",
     "evalue": "No module named 'aire_fonctions'",
     "output_type": "error",
     "traceback": [
      "\u001b[1;31m---------------------------------------------------------------------------\u001b[0m",
      "\u001b[1;31mModuleNotFoundError\u001b[0m                       Traceback (most recent call last)",
      "Input \u001b[1;32mIn [1]\u001b[0m, in \u001b[0;36m<cell line: 2>\u001b[1;34m()\u001b[0m\n\u001b[0;32m      1\u001b[0m \u001b[38;5;28;01mimport\u001b[39;00m \u001b[38;5;21;01munittest\u001b[39;00m\n\u001b[1;32m----> 2\u001b[0m \u001b[38;5;28;01mimport\u001b[39;00m \u001b[38;5;21;01maire_fonctions\u001b[39;00m \u001b[38;5;28;01mas\u001b[39;00m \u001b[38;5;21;01maf\u001b[39;00m\n\u001b[0;32m      4\u001b[0m \u001b[38;5;28;01mclass\u001b[39;00m \u001b[38;5;21;01mAFTestCase\u001b[39;00m(unittest\u001b[38;5;241m.\u001b[39mTestCase):\n\u001b[0;32m      5\u001b[0m     \u001b[38;5;124;03m\"\"\"tests pour aire_fonctions.py\"\"\"\u001b[39;00m\n",
      "\u001b[1;31mModuleNotFoundError\u001b[0m: No module named 'aire_fonctions'"
     ]
    }
   ],
   "source": [
    "import unittest\n",
    "import aire_fonctions as af\n",
    "\n",
    "class AFTestCase(unittest.TestCase):\n",
    "    \"\"\"tests pour aire_fonctions.py\"\"\"\n",
    "        \n",
    "    def test_aire_rect(self):\n",
    "        aire = af.aire_rect(3,4)\n",
    "        self.assertEqual(aire,12)\n",
    "\n",
    "if __name__=='__main__':\n",
    "    unittest.main()"
   ]
  },
  {
   "cell_type": "markdown",
   "metadata": {},
   "source": [
    "Importez le module *unittest* en entier et le module à tester.   \n",
    "Les noms des classes de test se terminent par TestCase(scénario de test).  \n",
    "La classe doit être une classe enfant de unittest.TestCase.   \n",
    "\n",
    "Chaque test à créer est une méthode.  \n",
    "La méthode test_aire_rect() appelle donc aire_rect() avec les dimensions d'un rectangle.   \n",
    "Puis, elle vérifie que son résultat est conforme à l'aire indiquée."
   ]
  },
  {
   "cell_type": "markdown",
   "metadata": {},
   "source": [
    "#### 8.3 Exécution d'un test réussi"
   ]
  },
  {
   "cell_type": "markdown",
   "metadata": {},
   "source": [
    "Python affiche un point lorsque le test est réussi.  \n",
    "Si le test est échoué, il affiche un E (erreur) ou un F (assertion échouée).  "
   ]
  },
  {
   "cell_type": "markdown",
   "metadata": {},
   "source": [
    "#### 8.4 Exécution d'un test en échec"
   ]
  },
  {
   "cell_type": "markdown",
   "metadata": {},
   "source": [
    "Voici un nouvel exemple de test qui a été ajouté dans le fichier *test_aire_fonctions.py*  \n",
    "pour vérifier que None est bien renvoyé pour des entrées négatives :  "
   ]
  },
  {
   "cell_type": "code",
   "execution_count": null,
   "metadata": {},
   "outputs": [],
   "source": [
    "def test_entrees_neg(self):\n",
    "        \"\"\"test des entrées négatives\"\"\"\n",
    "        aire = af.aire_rect(-3,4)\n",
    "        self.assertEqual(aire,None)"
   ]
  },
  {
   "cell_type": "markdown",
   "metadata": {},
   "source": [
    "Un test en échec affiche d'abord un F: le résultat montre la fonction en échec et affiche sa chaîne  \n",
    "de documentation, l'instruction *assert* échouée et les valeurs de l'instruction *assert*.  \n"
   ]
  },
  {
   "cell_type": "markdown",
   "metadata": {},
   "source": [
    "#### 8.5 Correction d'un test en échec"
   ]
  },
  {
   "cell_type": "markdown",
   "metadata": {},
   "source": [
    "Un test en échec donne la possibilité de corriger un bug  \n",
    "avant que ce dernier ne pose d'autres problèmes.  "
   ]
  },
  {
   "cell_type": "markdown",
   "metadata": {},
   "source": [
    "Nous constatons que la fonction aire_rect() ne passe pas le test  \n",
    "*test_entrees_negatives()*.  \n",
    "La fonction doit faire ce que le résultat du test décrit :  \n",
    "si l'aire est négative, la fonction doit renvoyer *None*. Voici la fonction modifiée :   \n"
   ]
  },
  {
   "cell_type": "code",
   "execution_count": null,
   "metadata": {},
   "outputs": [],
   "source": [
    "def aire_rect(l,h):\n",
    "    \"\"\"calculer l'aire d'un rectangle\"\"\"\n",
    "    aire = l*h\n",
    "    if aire >= 0:\n",
    "        return aire\n",
    "    else:\n",
    "        return None"
   ]
  },
  {
   "cell_type": "markdown",
   "metadata": {},
   "source": [
    "La fonction renvoie None si l'aire est négative.   \n",
    "Exécutez à nouveau le scénario de test.  "
   ]
  },
  {
   "cell_type": "markdown",
   "metadata": {},
   "source": [
    "#### 8.6 La méthode setUp()"
   ]
  },
  {
   "cell_type": "markdown",
   "metadata": {},
   "source": [
    "La méthode setUp() contient les exigences et hypothèses de test initiales pour les exécuter à chaque test.  \n",
    "Les largeurs et longueurs sont définis pour chaque fonction de test.  \n",
    "Au lieu de cela, vous pouvez définir ces variables dans la méthode setUp(),  \n",
    "puis en utiliser les valeurs dans chacune des fonctions de test : "
   ]
  },
  {
   "cell_type": "code",
   "execution_count": null,
   "metadata": {},
   "outputs": [],
   "source": [
    "class AFTestCase(unittest.TestCase):\n",
    "    \"\"\"tests pour aire_fonctions.py\"\"\"\n",
    "    def setUp(self):\n",
    "    \"\"\"créer largeur et longueur pour tous les tests\"\"\"\n",
    "        self.largeur = 3\n",
    "        self.longueur = 4"
   ]
  },
  {
   "cell_type": "code",
   "execution_count": null,
   "metadata": {},
   "outputs": [],
   "source": [
    "def test_aire_rect(self):\n",
    "    \"\"\"tester un rectangle\"\"\"\n",
    "    aire = af.aire_rect(\n",
    "        self.largeur, self.longueur)\n",
    "    self.assertEqual(aire,12)"
   ]
  }
 ],
 "metadata": {
  "kernelspec": {
   "display_name": "Python 3",
   "language": "python",
   "name": "python3"
  },
  "language_info": {
   "codemirror_mode": {
    "name": "ipython",
    "version": 3
   },
   "file_extension": ".py",
   "mimetype": "text/x-python",
   "name": "python",
   "nbconvert_exporter": "python",
   "pygments_lexer": "ipython3",
   "version": "3.9.12"
  }
 },
 "nbformat": 4,
 "nbformat_minor": 0
}
