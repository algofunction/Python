{
 "cells": [
  {
   "cell_type": "markdown",
   "metadata": {},
   "source": [
    "7.Classes\n",
    "==="
   ]
  },
  {
   "cell_type": "markdown",
   "metadata": {},
   "source": [
    "#### 7.1 Définition"
   ]
  },
  {
   "cell_type": "markdown",
   "metadata": {},
   "source": [
    "Une classe organise du code en associant des données à des actions.  \n",
    "An abstract definition of a certain type of objects. For example, a human being."
   ]
  },
  {
   "cell_type": "code",
   "execution_count": 1,
   "metadata": {},
   "outputs": [],
   "source": [
    "class Sentier():\n",
    "    \"\"\"une classe pour représenter des sentiers\"\"\"\n",
    "    def __init__(self, dest, long = 0):\n",
    "        self.dest = dest\n",
    "        self.long = long"
   ]
  },
  {
   "cell_type": "markdown",
   "metadata": {},
   "source": [
    "La méthode __init__() s'exécute automatiquement lors de la création d'une instance d'une classe.  \n",
    "Ici __init__() exige un argument **dest** et possède un paramètre facultatif **long**.  \n",
    "Associer les valeurs dest et long à **self** les rend accessibles aux méthodes et instances de la classe. "
   ]
  },
  {
   "cell_type": "markdown",
   "metadata": {},
   "source": [
    "#### 7.2 Méthodes"
   ]
  },
  {
   "cell_type": "markdown",
   "metadata": {},
   "source": [
    "Une méthode permet de faire des actions à l'aide d'une classe.  \n",
    "An operation that the class or an instance of the class can implement. For example, walking.  "
   ]
  },
  {
   "cell_type": "code",
   "execution_count": 2,
   "metadata": {},
   "outputs": [
    {
     "data": {
      "text/plain": [
       "'\\nverdon = Sentier(\"Basses Verdon\", 10)\\nprint(f\"Destination:{verdon.dest}\")\\nverdon.decrire_sentier()'"
      ]
     },
     "execution_count": 2,
     "metadata": {},
     "output_type": "execute_result"
    }
   ],
   "source": [
    "class Sentier():\n",
    "    \"\"\"une classe pour représenter des sentiers\"\"\"\n",
    "    \n",
    "    def __init__(self, dest, long = 0):\n",
    "        self.dest = dest\n",
    "        self.long = long\n",
    "\n",
    "    def decrire_sentier(self):\n",
    "        desc=f\"ce sentier va à {self.dest}.\"\n",
    "        if self.long:\n",
    "            desc+=f\"\\n Le sentier fait {self.long}m.\"\n",
    "        print(desc)\n",
    "\"\"\"\n",
    "verdon = Sentier(\"Basses Verdon\", 10)\n",
    "print(f\"Destination:{verdon.dest}\")\n",
    "verdon.decrire_sentier()\"\"\""
   ]
  },
  {
   "cell_type": "markdown",
   "metadata": {},
   "source": [
    "Une référence à l'instance de la classe, self, est envoyée à chaque méthode.   \n",
    "Ainsi, chaque méthode doit contenir ce premier paramètre **self**.  \n",
    "Ensuite, la méthode peut utiliser tout attribut issu de la classe : la destination du sentier, sa longueur."
   ]
  },
  {
   "cell_type": "markdown",
   "metadata": {},
   "source": [
    "#### 7.3 Création d'instances"
   ]
  },
  {
   "cell_type": "markdown",
   "metadata": {},
   "source": [
    "Créer des instances afin d'utiliser les méthodes et attributs d'une classe.  \n",
    "The process of creating a specific object based on an abstract class.  \n",
    "Exemples : une classe définit des valeurs et actions représentant n'importe quel sentier.  \n",
    "Une instance est un ensemble de valeurs représentant un sentier bien déterminé."
   ]
  },
  {
   "cell_type": "code",
   "execution_count": 3,
   "metadata": {},
   "outputs": [
    {
     "name": "stdout",
     "output_type": "stream",
     "text": [
      "Destination:Basses Verdon\n",
      "ce sentier va à Basses Verdon.\n",
      " Le sentier fait 10m.\n"
     ]
    }
   ],
   "source": [
    "verdon = Sentier(\"Basses Verdon\", 10)\n",
    "print(f\"Destination:{verdon.dest}\")\n",
    "verdon.decrire_sentier()"
   ]
  },
  {
   "cell_type": "markdown",
   "metadata": {},
   "source": [
    "#### 7.4 Ajout de méthodes"
   ]
  },
  {
   "cell_type": "markdown",
   "metadata": {},
   "source": [
    "La version de la classe Sentier comporte la définition d'une deuxième méthode :"
   ]
  },
  {
   "cell_type": "code",
   "execution_count": 4,
   "metadata": {},
   "outputs": [],
   "source": [
    "class Sentier():\n",
    "\n",
    "    def jogging_sentier(self):\n",
    "        print(f\"jogging(self.dest).\")"
   ]
  },
  {
   "cell_type": "code",
   "execution_count": 5,
   "metadata": {},
   "outputs": [
    {
     "ename": "TypeError",
     "evalue": "Sentier() takes no arguments",
     "output_type": "error",
     "traceback": [
      "\u001b[1;31m---------------------------------------------------------------------------\u001b[0m",
      "\u001b[1;31mTypeError\u001b[0m                                 Traceback (most recent call last)",
      "Input \u001b[1;32mIn [5]\u001b[0m, in \u001b[0;36m<cell line: 1>\u001b[1;34m()\u001b[0m\n\u001b[1;32m----> 1\u001b[0m verdon \u001b[38;5;241m=\u001b[39m \u001b[43mSentier\u001b[49m\u001b[43m(\u001b[49m\u001b[38;5;124;43m\"\u001b[39;49m\u001b[38;5;124;43mBasses Verdon\u001b[39;49m\u001b[38;5;124;43m\"\u001b[39;49m\u001b[43m,\u001b[49m\u001b[43m \u001b[49m\u001b[38;5;241;43m10\u001b[39;49m\u001b[43m)\u001b[49m\n\u001b[0;32m      2\u001b[0m verdon\u001b[38;5;241m.\u001b[39mdecrire_sentier()\n\u001b[0;32m      3\u001b[0m verdon\u001b[38;5;241m.\u001b[39mjogging_sentier()\n",
      "\u001b[1;31mTypeError\u001b[0m: Sentier() takes no arguments"
     ]
    }
   ],
   "source": [
    "verdon = Sentier(\"Basses Verdon\", 10)\n",
    "verdon.decrire_sentier()\n",
    "verdon.jogging_sentier()"
   ]
  },
  {
   "cell_type": "markdown",
   "metadata": {},
   "source": [
    "Chaque méthode reçoit le paramètre self lui donnant accès à tous les attributs de la classe.  \n",
    "Ci-dessous est créé une instance représentant un sentier précis et deux méthodes sont appelées. "
   ]
  },
  {
   "cell_type": "markdown",
   "metadata": {},
   "source": [
    "#### 7.5 Instances multiples"
   ]
  },
  {
   "cell_type": "markdown",
   "metadata": {},
   "source": [
    "Une classe peut créer autant d'instances que nécessaire.    \n",
    "La classe génère deux sentiers :  "
   ]
  },
  {
   "cell_type": "code",
   "execution_count": null,
   "metadata": {},
   "outputs": [],
   "source": [
    "verdon = Sentier(\"Gorges du Verdon\", 10)\n",
    "verdon.decrire_sentier()\n",
    "verdon.jogging_sentier()\n",
    "\n",
    "om = Sentier(\"Gorges du Verdon\", 11)\n",
    "om.decrire_sentier()\n",
    "om.jogging_sentier()"
   ]
  },
  {
   "cell_type": "markdown",
   "metadata": {},
   "source": [
    "#### 7.6 Héritage"
   ]
  },
  {
   "cell_type": "markdown",
   "metadata": {},
   "source": [
    "Une classe originale peut faire hériter ses attributs et méthodes à une nouvelle classe par l'héritage."
   ]
  },
  {
   "cell_type": "code",
   "execution_count": null,
   "metadata": {},
   "outputs": [],
   "source": [
    "class SentierVTT(Sentier):\n",
    "    \"\"\"Représente un sentier de VTT\"\"\"\n",
    "\n",
    "    def __init__(self, dest, long=0):\n",
    "        super().__init__(dest, long)\n",
    "        self.pavee = True\n",
    "        self.velos_seuls = True"
   ]
  },
  {
   "cell_type": "markdown",
   "metadata": {},
   "source": [
    "Créons une classe représentant un sentier de VTT : sa classe parente est\n",
    "*Sentier*, la classe enfant est *SentierVTT*.  \n",
    "Insérer le nom de la classe parente entre parenthèses pour définir une classe *enfant*.  \n",
    "\n",
    "La méthode __init__() de la classe enfant doit souvent appeler la méthode __init__() de la classe parente à l'aide de la classe super().   \n",
    "super() appele les méthodes de la classe parente.  \n",
    "\n",
    "L'attribut self.velos_seuls indique si le sentier est fermé aux autres usagers que les cyclistes : attributs qui sont propres à cette classe enfant."
   ]
  },
  {
   "cell_type": "markdown",
   "metadata": {},
   "source": [
    "#### 7.7 Méthodes de classe enfant"
   ]
  },
  {
   "cell_type": "markdown",
   "metadata": {},
   "source": [
    "Avoir des comportements manquant dans la classe parente.  \n",
    "La méthode rouler_sur_sentier() de la classe SentierVTT affiche un message uniquement pertinent\n",
    "pour une randonnée en VTT.  "
   ]
  },
  {
   "cell_type": "code",
   "execution_count": null,
   "metadata": {},
   "outputs": [],
   "source": [
    "class SentierVTT(Sentier):\n",
    "    \"\"\"Représente un sentier de VTT\"\"\"\n",
    "\n",
    "    def __init__(self, dest, long=0):\n",
    "        super().__init__(dest, long)\n",
    "        self.pavee = True\n",
    "        self.velos_seuls = True\n",
    "\n",
    "    def rouler_sur_sentier(self):\n",
    "        \"\"\"simule le parcours en roulant sur le sentier\"\"\"\n",
    "        print(f\" Rouler sur {self.dest}.\")\n",
    "\n",
    "rando_vtt = SentierVTT(\"La Lamb\", 41)\n",
    "rando_vtt.rouler_sur_sentier()"
   ]
  },
  {
   "cell_type": "markdown",
   "metadata": {},
   "source": [
    "#### 7.8 Surcharge de méthodes de classe parente"
   ]
  },
  {
   "cell_type": "markdown",
   "metadata": {},
   "source": [
    "super() permet de personnaliser le comportement des méthodes de sa classe parente.     \n",
    "La classe SentierVTT modifie le comportement de la méthode jogging_sur_sentier() :  "
   ]
  },
  {
   "cell_type": "code",
   "execution_count": 6,
   "metadata": {},
   "outputs": [
    {
     "ename": "TypeError",
     "evalue": "object.__init__() takes exactly one argument (the instance to initialize)",
     "output_type": "error",
     "traceback": [
      "\u001b[1;31m---------------------------------------------------------------------------\u001b[0m",
      "\u001b[1;31mTypeError\u001b[0m                                 Traceback (most recent call last)",
      "Input \u001b[1;32mIn [6]\u001b[0m, in \u001b[0;36m<cell line: 16>\u001b[1;34m()\u001b[0m\n\u001b[0;32m     13\u001b[0m         \u001b[38;5;28;01melse\u001b[39;00m:\n\u001b[0;32m     14\u001b[0m             \u001b[38;5;28msuper\u001b[39m()\u001b[38;5;241m.\u001b[39mjogging_sur_sentier()\n\u001b[1;32m---> 16\u001b[0m rando_vtt \u001b[38;5;241m=\u001b[39m \u001b[43mSentierVTT\u001b[49m\u001b[43m(\u001b[49m\u001b[38;5;124;43m\"\u001b[39;49m\u001b[38;5;124;43mLa Lamb\u001b[39;49m\u001b[38;5;124;43m\"\u001b[39;49m\u001b[43m,\u001b[49m\u001b[43m \u001b[49m\u001b[38;5;241;43m41\u001b[39;49m\u001b[43m)\u001b[49m\n\u001b[0;32m     17\u001b[0m rando_vtt\u001b[38;5;241m.\u001b[39mrouler_sur_sentier()\n",
      "Input \u001b[1;32mIn [6]\u001b[0m, in \u001b[0;36mSentierVTT.__init__\u001b[1;34m(self, dest, long)\u001b[0m\n\u001b[0;32m      4\u001b[0m \u001b[38;5;28;01mdef\u001b[39;00m \u001b[38;5;21m__init__\u001b[39m(\u001b[38;5;28mself\u001b[39m, dest, long\u001b[38;5;241m=\u001b[39m\u001b[38;5;241m0\u001b[39m):\n\u001b[1;32m----> 5\u001b[0m     \u001b[38;5;28;43msuper\u001b[39;49m\u001b[43m(\u001b[49m\u001b[43m)\u001b[49m\u001b[38;5;241;43m.\u001b[39;49m\u001b[38;5;21;43m__init__\u001b[39;49m\u001b[43m(\u001b[49m\u001b[43mdest\u001b[49m\u001b[43m,\u001b[49m\u001b[43m \u001b[49m\u001b[43mlong\u001b[49m\u001b[43m)\u001b[49m\n\u001b[0;32m      6\u001b[0m     \u001b[38;5;28mself\u001b[39m\u001b[38;5;241m.\u001b[39mpavee \u001b[38;5;241m=\u001b[39m \u001b[38;5;28;01mTrue\u001b[39;00m\n\u001b[0;32m      7\u001b[0m     \u001b[38;5;28mself\u001b[39m\u001b[38;5;241m.\u001b[39mvelos_seuls \u001b[38;5;241m=\u001b[39m \u001b[38;5;28;01mTrue\u001b[39;00m\n",
      "\u001b[1;31mTypeError\u001b[0m: object.__init__() takes exactly one argument (the instance to initialize)"
     ]
    }
   ],
   "source": [
    "class SentierVTT(Sentier):\n",
    "    \"\"\"Représente un sentier de VTT\"\"\"\n",
    "\n",
    "    def __init__(self, dest, long=0):\n",
    "        super().__init__(dest, long)\n",
    "        self.pavee = True\n",
    "        self.velos_seuls = True\n",
    "\n",
    "    def jogging_sur_sentier(self):\n",
    "        \"\"\"simule la course sur le sentier\"\"\"\n",
    "        if self.velos_seuls:\n",
    "            print(\"Ce sentier est interdit !\")\n",
    "        else:\n",
    "            super().jogging_sur_sentier()\n",
    "\n",
    "rando_vtt = SentierVTT(\"La Lamb\", 41)\n",
    "rando_vtt.rouler_sur_sentier()"
   ]
  },
  {
   "cell_type": "markdown",
   "metadata": {},
   "source": [
    "La méthode vérifie si ce sentier est réservé aux VTT et affiche le message approprié en conséquence.   \n",
    "Si le sentier accepte les joggeurs, la méthode appelle la méthode parente jogging_sur_sentier() héritant ainsi du comportement d'un Sentier normal."
   ]
  }
 ],
 "metadata": {
  "kernelspec": {
   "display_name": "Python 3",
   "language": "python",
   "name": "python3"
  },
  "language_info": {
   "codemirror_mode": {
    "name": "ipython",
    "version": 3
   },
   "file_extension": ".py",
   "mimetype": "text/x-python",
   "name": "python",
   "nbconvert_exporter": "python",
   "pygments_lexer": "ipython3",
   "version": "3.9.12"
  }
 },
 "nbformat": 4,
 "nbformat_minor": 0
}
