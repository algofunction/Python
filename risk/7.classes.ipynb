{
 "cells": [
  {
   "cell_type": "markdown",
   "metadata": {},
   "source": [
    "7.Classes\n",
    "==="
   ]
  },
  {
   "cell_type": "markdown",
   "metadata": {},
   "source": [
    "#### 7.1 Définition"
   ]
  },
  {
   "cell_type": "markdown",
   "metadata": {},
   "source": [
    "Une classe organise du code en associant des données à des actions."
   ]
  },
  {
   "cell_type": "code",
   "execution_count": 11,
   "metadata": {},
   "outputs": [],
   "source": [
    "class Sentier():\n",
    "    \"\"\"une classe pour représenter des sentiers\"\"\"\n",
    "    def __init__(self, dest, long = 0):\n",
    "        self.dest = dest\n",
    "        self.long = long"
   ]
  },
  {
   "cell_type": "markdown",
   "metadata": {},
   "source": [
    "La méthode __init__() s'exécute automatiquement lors de la création d'une instance d'une classe.  \n",
    "Ici __init__() exige un argument **dest** et possède un paramètre facultatif **long**.  \n",
    "Associer les valeurs dest et long à **self** les rend accessibles aux méthodes et instances de la classe. "
   ]
  },
  {
   "cell_type": "markdown",
   "metadata": {},
   "source": [
    "#### 7.2 Méthodes"
   ]
  },
  {
   "cell_type": "markdown",
   "metadata": {},
   "source": [
    "Une méthode permet de faire des actions à l'aide d'une classe."
   ]
  },
  {
   "cell_type": "code",
   "execution_count": 15,
   "metadata": {},
   "outputs": [
    {
     "name": "stdout",
     "output_type": "stream",
     "text": [
      "Destination:Basses Verdon\n",
      "ce sentier va à Basses Verdon.\n",
      " Le sentier fait 10m.\n"
     ]
    }
   ],
   "source": [
    "class Sentier():\n",
    "    \"\"\"une classe pour représenter des sentiers\"\"\"\n",
    "    def __init__(self, dest, long = 0):\n",
    "        self.dest = dest\n",
    "        self.long = long\n",
    "\n",
    "    def decrire_sentier(self):\n",
    "        desc=f\"ce sentier va à {self.dest}.\"\n",
    "        if self.long:\n",
    "            desc+=f\"\\n Le sentier fait {self.long}m.\"\n",
    "        print(desc)\n",
    "\n",
    "verdon = Sentier(\"Basses Verdon\", 10)\n",
    "print(f\"Destination:{verdon.dest}\")\n",
    "verdon.decrire_sentier()"
   ]
  },
  {
   "cell_type": "markdown",
   "metadata": {},
   "source": [
    "Une référence à l'instance de la classe, self, est envoyée à chaque méthode.   \n",
    "Ainsi, chaque méthode doit contenir ce premier paramètre **self**."
   ]
  }
 ],
 "metadata": {
  "kernelspec": {
   "display_name": "Python 3",
   "language": "python",
   "name": "python3"
  },
  "language_info": {
   "codemirror_mode": {
    "name": "ipython",
    "version": 3
   },
   "file_extension": ".py",
   "mimetype": "text/x-python",
   "name": "python",
   "nbconvert_exporter": "python",
   "pygments_lexer": "ipython3",
   "version": "3.9.12"
  }
 },
 "nbformat": 4,
 "nbformat_minor": 0
}
