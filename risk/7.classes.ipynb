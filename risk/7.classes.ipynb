{
 "cells": [
  {
   "cell_type": "markdown",
   "metadata": {},
   "source": [
    "7.Classes\n",
    "==="
   ]
  },
  {
   "cell_type": "markdown",
   "metadata": {},
   "source": [
    "#### 7.1 Définition"
   ]
  },
  {
   "cell_type": "markdown",
   "metadata": {},
   "source": [
    "Une classe organise du code en associant des données à des actions.  \n",
    "An abstract definition of a certain type of objects. For example, a human being."
   ]
  },
  {
   "cell_type": "code",
   "execution_count": 1,
   "metadata": {},
   "outputs": [],
   "source": [
    "class Sentier():\n",
    "    \"\"\"une classe pour représenter des sentiers\"\"\"\n",
    "    def __init__(self, dest, long = 0):\n",
    "        self.dest = dest\n",
    "        self.long = long"
   ]
  },
  {
   "cell_type": "markdown",
   "metadata": {},
   "source": [
    "La méthode __init__() s'exécute automatiquement lors de la création d'une instance d'une classe.  \n",
    "Ici __init__() exige un argument **dest** et possède un paramètre facultatif **long**.  \n",
    "Associer les valeurs dest et long à **self** les rend accessibles aux méthodes et instances de la classe. "
   ]
  },
  {
   "cell_type": "markdown",
   "metadata": {},
   "source": [
    "#### 7.2 Méthodes"
   ]
  },
  {
   "cell_type": "markdown",
   "metadata": {},
   "source": [
    "Une méthode permet de faire des actions à l'aide d'une classe.  \n",
    "An operation that the class or an instance of the class can implement. For example, walking.  "
   ]
  },
  {
   "cell_type": "code",
   "execution_count": 2,
   "metadata": {},
   "outputs": [
    {
     "data": {
      "text/plain": [
       "'\\nverdon = Sentier(\"Basses Verdon\", 10)\\nprint(f\"Destination:{verdon.dest}\")\\nverdon.decrire_sentier()'"
      ]
     },
     "execution_count": 2,
     "metadata": {},
     "output_type": "execute_result"
    }
   ],
   "source": [
    "class Sentier():\n",
    "    \"\"\"une classe pour représenter des sentiers\"\"\"\n",
    "    \n",
    "    def __init__(self, dest, long = 0):\n",
    "        self.dest = dest\n",
    "        self.long = long\n",
    "\n",
    "    def decrire_sentier(self):\n",
    "        desc=f\"ce sentier va à {self.dest}.\"\n",
    "        if self.long:\n",
    "            desc+=f\"\\n Le sentier fait {self.long}m.\"\n",
    "        print(desc)\n",
    "\"\"\"\n",
    "verdon = Sentier(\"Basses Verdon\", 10)\n",
    "print(f\"Destination:{verdon.dest}\")\n",
    "verdon.decrire_sentier()\"\"\""
   ]
  },
  {
   "cell_type": "markdown",
   "metadata": {},
   "source": [
    "Une référence à l'instance de la classe, self, est envoyée à chaque méthode.   \n",
    "Ainsi, chaque méthode doit contenir ce premier paramètre **self**.  \n",
    "Ensuite, la méthode peut utiliser tout attribut issu de la classe : la destination du sentier, sa longueur."
   ]
  },
  {
   "cell_type": "markdown",
   "metadata": {},
   "source": [
    "#### 7.3 Création d'instances"
   ]
  },
  {
   "cell_type": "markdown",
   "metadata": {},
   "source": [
    "Créer des instances afin d'utiliser les méthodes et attributs d'une classe.  \n",
    "The process of creating a specific object based on an abstract class.  \n",
    "Exemples : une classe définit des valeurs et actions représentant n'importe quel sentier.  \n",
    "Une instance est un ensemble de valeurs représentant un sentier bien déterminé."
   ]
  },
  {
   "cell_type": "code",
   "execution_count": 3,
   "metadata": {},
   "outputs": [
    {
     "name": "stdout",
     "output_type": "stream",
     "text": [
      "Destination:Basses Verdon\n",
      "ce sentier va à Basses Verdon.\n",
      " Le sentier fait 10m.\n"
     ]
    }
   ],
   "source": [
    "verdon = Sentier(\"Basses Verdon\", 10)\n",
    "print(f\"Destination:{verdon.dest}\")\n",
    "verdon.decrire_sentier()"
   ]
  },
  {
   "cell_type": "markdown",
   "metadata": {},
   "source": [
    "#### 7.4 Ajout de méthodes"
   ]
  },
  {
   "cell_type": "markdown",
   "metadata": {},
   "source": [
    "La version de la classe Sentier comporte la définition d'une deuxième méthode :"
   ]
  },
  {
   "cell_type": "code",
   "execution_count": 4,
   "metadata": {},
   "outputs": [],
   "source": [
    "class Sentier():\n",
    "\n",
    "    def jogging_sentier(self):\n",
    "        print(f\"jogging(self.dest).\")"
   ]
  },
  {
   "cell_type": "code",
   "execution_count": 5,
   "metadata": {},
   "outputs": [
    {
     "ename": "TypeError",
     "evalue": "Sentier() takes no arguments",
     "output_type": "error",
     "traceback": [
      "\u001b[1;31m---------------------------------------------------------------------------\u001b[0m",
      "\u001b[1;31mTypeError\u001b[0m                                 Traceback (most recent call last)",
      "Input \u001b[1;32mIn [5]\u001b[0m, in \u001b[0;36m<cell line: 1>\u001b[1;34m()\u001b[0m\n\u001b[1;32m----> 1\u001b[0m verdon \u001b[38;5;241m=\u001b[39m \u001b[43mSentier\u001b[49m\u001b[43m(\u001b[49m\u001b[38;5;124;43m\"\u001b[39;49m\u001b[38;5;124;43mBasses Verdon\u001b[39;49m\u001b[38;5;124;43m\"\u001b[39;49m\u001b[43m,\u001b[49m\u001b[43m \u001b[49m\u001b[38;5;241;43m10\u001b[39;49m\u001b[43m)\u001b[49m\n\u001b[0;32m      2\u001b[0m verdon\u001b[38;5;241m.\u001b[39mdecrire_sentier()\n\u001b[0;32m      3\u001b[0m verdon\u001b[38;5;241m.\u001b[39mjogging_sentier()\n",
      "\u001b[1;31mTypeError\u001b[0m: Sentier() takes no arguments"
     ]
    }
   ],
   "source": [
    "verdon = Sentier(\"Basses Verdon\", 10)\n",
    "verdon.decrire_sentier()\n",
    "verdon.jogging_sentier()"
   ]
  },
  {
   "cell_type": "markdown",
   "metadata": {},
   "source": [
    "Chaque méthode reçoit le paramètre self lui donnant accès à tous les attributs de la classe.  \n",
    "Ci-dessous est créé une instance représentant un sentier précis et deux méthodes sont appelées. "
   ]
  },
  {
   "cell_type": "markdown",
   "metadata": {},
   "source": [
    "#### 7.4 Instances multiples"
   ]
  },
  {
   "cell_type": "markdown",
   "metadata": {},
   "source": [
    "La classe génère deux sentiers :  "
   ]
  },
  {
   "cell_type": "code",
   "execution_count": null,
   "metadata": {},
   "outputs": [],
   "source": [
    "verdon = Sentier(\"Gorges du Verdon\", 10)\n",
    "verdon.decrire_sentier()\n",
    "verdon.jogging_sentier()\n",
    "\n",
    "om = Sentier(\"Gorges du Verdon\", 11)\n",
    "om.decrire_sentier()\n",
    "om.jogging_sentier()"
   ]
  }
 ],
 "metadata": {
  "kernelspec": {
   "display_name": "Python 3",
   "language": "python",
   "name": "python3"
  },
  "language_info": {
   "codemirror_mode": {
    "name": "ipython",
    "version": 3
   },
   "file_extension": ".py",
   "mimetype": "text/x-python",
   "name": "python",
   "nbconvert_exporter": "python",
   "pygments_lexer": "ipython3",
   "version": "3.9.12"
  }
 },
 "nbformat": 4,
 "nbformat_minor": 0
}
