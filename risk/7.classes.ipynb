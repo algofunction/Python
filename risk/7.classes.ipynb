{
 "cells": [
  {
   "cell_type": "markdown",
   "metadata": {},
   "source": [
    "7.Classes\n",
    "==="
   ]
  },
  {
   "cell_type": "markdown",
   "metadata": {},
   "source": [
    "#### 7.1 Définition"
   ]
  },
  {
   "cell_type": "markdown",
   "metadata": {},
   "source": [
    "Une classe organise du code en associant des données à des actions.  \n",
    "An abstract definition of a certain type of objects. For example, a human being."
   ]
  },
  {
   "cell_type": "code",
   "execution_count": 11,
   "metadata": {},
   "outputs": [],
   "source": [
    "class Sentier():\n",
    "    \"\"\"une classe pour représenter des sentiers\"\"\"\n",
    "    def __init__(self, dest, long = 0):\n",
    "        self.dest = dest\n",
    "        self.long = long"
   ]
  },
  {
   "cell_type": "markdown",
   "metadata": {},
   "source": [
    "La méthode __init__() s'exécute automatiquement lors de la création d'une instance d'une classe.  \n",
    "Ici __init__() exige un argument **dest** et possède un paramètre facultatif **long**.  \n",
    "Associer les valeurs dest et long à **self** les rend accessibles aux méthodes et instances de la classe. "
   ]
  },
  {
   "cell_type": "markdown",
   "metadata": {},
   "source": [
    "#### 7.2 Méthodes"
   ]
  },
  {
   "cell_type": "markdown",
   "metadata": {},
   "source": [
    "Une méthode permet de faire des actions à l'aide d'une classe.  \n",
    "An operation that the class or an instance of the class can implement. For example, walking.  "
   ]
  },
  {
   "cell_type": "code",
   "execution_count": 2,
   "metadata": {},
   "outputs": [
    {
     "data": {
      "text/plain": [
       "'\\nverdon = Sentier(\"Basses Verdon\", 10)\\nprint(f\"Destination:{verdon.dest}\")\\nverdon.decrire_sentier()'"
      ]
     },
     "execution_count": 2,
     "metadata": {},
     "output_type": "execute_result"
    }
   ],
   "source": [
    "class Sentier():\n",
    "    \"\"\"une classe pour représenter des sentiers\"\"\"\n",
    "    \n",
    "    def __init__(self, dest, long = 0):\n",
    "        self.dest = dest\n",
    "        self.long = long\n",
    "\n",
    "    def decrire_sentier(self):\n",
    "        desc=f\"ce sentier va à {self.dest}.\"\n",
    "        if self.long:\n",
    "            desc+=f\"\\n Le sentier fait {self.long}m.\"\n",
    "        print(desc)\n",
    "\"\"\"\n",
    "verdon = Sentier(\"Basses Verdon\", 10)\n",
    "print(f\"Destination:{verdon.dest}\")\n",
    "verdon.decrire_sentier()\"\"\""
   ]
  },
  {
   "cell_type": "markdown",
   "metadata": {},
   "source": [
    "Une référence à l'instance de la classe, self, est envoyée à chaque méthode.   \n",
    "Ainsi, chaque méthode doit contenir ce premier paramètre **self**.  \n",
    "Ensuite, la méthode peut utiliser tout attribut issu de la classe : la destination du sentier, sa longueur."
   ]
  },
  {
   "cell_type": "markdown",
   "metadata": {},
   "source": [
    "#### 7.3 Création d'instances"
   ]
  },
  {
   "cell_type": "markdown",
   "metadata": {},
   "source": [
    "Créer des instances afin d'utiliser les méthodes et attributs d'une classe.  \n",
    "The process of creating a specific object based on an abstract class.  \n",
    "Exemples : une classe définit des valeurs et actions représentant n'importe quel sentier.  \n",
    "Une instance est un ensemble de valeurs représentant un sentier bien déterminé."
   ]
  },
  {
   "cell_type": "code",
   "execution_count": 3,
   "metadata": {},
   "outputs": [
    {
     "name": "stdout",
     "output_type": "stream",
     "text": [
      "Destination:Basses Verdon\n",
      "ce sentier va à Basses Verdon.\n",
      " Le sentier fait 10m.\n"
     ]
    }
   ],
   "source": [
    "verdon = Sentier(\"Basses Verdon\", 10)\n",
    "print(f\"Destination:{verdon.dest}\")\n",
    "verdon.decrire_sentier()"
   ]
  }
 ],
 "metadata": {
  "kernelspec": {
   "display_name": "Python 3",
   "language": "python",
   "name": "python3"
  },
  "language_info": {
   "codemirror_mode": {
    "name": "ipython",
    "version": 3
   },
   "file_extension": ".py",
   "mimetype": "text/x-python",
   "name": "python",
   "nbconvert_exporter": "python",
   "pygments_lexer": "ipython3",
   "version": "3.9.12"
  }
 },
 "nbformat": 4,
 "nbformat_minor": 0
}
